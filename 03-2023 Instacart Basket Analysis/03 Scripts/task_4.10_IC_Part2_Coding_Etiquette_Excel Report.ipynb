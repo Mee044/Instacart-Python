{
 "cells": [
  {
   "cell_type": "markdown",
   "id": "81e157d9-b559-4709-a89f-1e99a10aec5c",
   "metadata": {},
   "source": [
    "# 4.10 Coding Etiquette and Excel Reporting (Part 2)\n",
    "\n",
    "## Table of Contents\n",
    "\n",
    "- Importing libraries and files\n",
    "\n",
    "- Creating customer 'profile' for targeted marketing purposes\n",
    "\n",
    "- Customer profile comparison in regions and departments.\n",
    "\n",
    "- Visualizing 'profile' distribution\n",
    "\n",
    "- Aggregate the Max, Min & Mean Values\n",
    "\n",
    "- Compare And identify customer profiles with regions and departments (Please continue check Part 3 due to sluggish)"
   ]
  },
  {
   "cell_type": "markdown",
   "id": "05a5778c-f311-4138-ae87-0012f2f52a20",
   "metadata": {},
   "source": [
    "## Importing libraries and Data"
   ]
  },
  {
   "cell_type": "code",
   "execution_count": 1,
   "id": "09f9a4ae-c271-4171-b2bd-87456c687f9b",
   "metadata": {},
   "outputs": [],
   "source": [
    "# import libraries\n",
    "import pandas as pd\n",
    "import numpy as np\n",
    "import os\n",
    "import matplotlib.pyplot as plt\n",
    "import seaborn as sns\n",
    "import scipy"
   ]
  },
  {
   "cell_type": "code",
   "execution_count": 2,
   "id": "6fafb9dd-df83-44ae-a99b-d49d1d7217c9",
   "metadata": {},
   "outputs": [],
   "source": [
    "# create path\n",
    "path = r'/Users/rusamijan/03-2023 Instacart Basket Analysis'"
   ]
  },
  {
   "cell_type": "code",
   "execution_count": 3,
   "id": "1fe3cddb-fd27-4138-8d94-8815772f8040",
   "metadata": {},
   "outputs": [],
   "source": [
    "# import high_activity data set\n",
    "df_high_act_cust = pd.read_pickle(os.path.join(path, '02 Data', 'Prepared Data', 'high_activity_customers.pkl'))"
   ]
  },
  {
   "cell_type": "code",
   "execution_count": 4,
   "id": "3a1baf66-25b3-44c0-9c61-df22a7b5a849",
   "metadata": {},
   "outputs": [],
   "source": [
    "#import departments data set \n",
    "df_depts = pd.read_csv(os.path.join(path, '02 Data','Prepared Data','departments_wrangled.csv'), index_col = False)"
   ]
  },
  {
   "cell_type": "code",
   "execution_count": 5,
   "id": "8f14b292-32d2-4a1d-82c9-458f376ff75c",
   "metadata": {},
   "outputs": [
    {
     "data": {
      "text/html": [
       "<div>\n",
       "<style scoped>\n",
       "    .dataframe tbody tr th:only-of-type {\n",
       "        vertical-align: middle;\n",
       "    }\n",
       "\n",
       "    .dataframe tbody tr th {\n",
       "        vertical-align: top;\n",
       "    }\n",
       "\n",
       "    .dataframe thead th {\n",
       "        text-align: right;\n",
       "    }\n",
       "</style>\n",
       "<table border=\"1\" class=\"dataframe\">\n",
       "  <thead>\n",
       "    <tr style=\"text-align: right;\">\n",
       "      <th></th>\n",
       "      <th>order_id</th>\n",
       "      <th>user_id</th>\n",
       "      <th>order_number</th>\n",
       "      <th>orders_day_of_week</th>\n",
       "      <th>order_hour_of_day</th>\n",
       "      <th>days_since_prior_order</th>\n",
       "      <th>product_id</th>\n",
       "      <th>add_to_cart_order</th>\n",
       "      <th>reordered</th>\n",
       "      <th>product_name</th>\n",
       "      <th>...</th>\n",
       "      <th>order_frequency_flag</th>\n",
       "      <th>gender</th>\n",
       "      <th>state</th>\n",
       "      <th>age</th>\n",
       "      <th>date_of_registration</th>\n",
       "      <th>number_dependants</th>\n",
       "      <th>marital_status</th>\n",
       "      <th>income</th>\n",
       "      <th>region</th>\n",
       "      <th>activity_flag</th>\n",
       "    </tr>\n",
       "  </thead>\n",
       "  <tbody>\n",
       "    <tr>\n",
       "      <th>0</th>\n",
       "      <td>2539329</td>\n",
       "      <td>1</td>\n",
       "      <td>1</td>\n",
       "      <td>2</td>\n",
       "      <td>8</td>\n",
       "      <td>NaN</td>\n",
       "      <td>196.0</td>\n",
       "      <td>1.0</td>\n",
       "      <td>0.0</td>\n",
       "      <td>Soda</td>\n",
       "      <td>...</td>\n",
       "      <td>Non-frequent customer</td>\n",
       "      <td>Female</td>\n",
       "      <td>Alabama</td>\n",
       "      <td>31</td>\n",
       "      <td>2/17/2019</td>\n",
       "      <td>3</td>\n",
       "      <td>married</td>\n",
       "      <td>40423</td>\n",
       "      <td>South</td>\n",
       "      <td>High-activity</td>\n",
       "    </tr>\n",
       "    <tr>\n",
       "      <th>1</th>\n",
       "      <td>2398795</td>\n",
       "      <td>1</td>\n",
       "      <td>2</td>\n",
       "      <td>3</td>\n",
       "      <td>7</td>\n",
       "      <td>15.0</td>\n",
       "      <td>196.0</td>\n",
       "      <td>1.0</td>\n",
       "      <td>1.0</td>\n",
       "      <td>Soda</td>\n",
       "      <td>...</td>\n",
       "      <td>Non-frequent customer</td>\n",
       "      <td>Female</td>\n",
       "      <td>Alabama</td>\n",
       "      <td>31</td>\n",
       "      <td>2/17/2019</td>\n",
       "      <td>3</td>\n",
       "      <td>married</td>\n",
       "      <td>40423</td>\n",
       "      <td>South</td>\n",
       "      <td>High-activity</td>\n",
       "    </tr>\n",
       "    <tr>\n",
       "      <th>2</th>\n",
       "      <td>473747</td>\n",
       "      <td>1</td>\n",
       "      <td>3</td>\n",
       "      <td>3</td>\n",
       "      <td>12</td>\n",
       "      <td>21.0</td>\n",
       "      <td>196.0</td>\n",
       "      <td>1.0</td>\n",
       "      <td>1.0</td>\n",
       "      <td>Soda</td>\n",
       "      <td>...</td>\n",
       "      <td>Non-frequent customer</td>\n",
       "      <td>Female</td>\n",
       "      <td>Alabama</td>\n",
       "      <td>31</td>\n",
       "      <td>2/17/2019</td>\n",
       "      <td>3</td>\n",
       "      <td>married</td>\n",
       "      <td>40423</td>\n",
       "      <td>South</td>\n",
       "      <td>High-activity</td>\n",
       "    </tr>\n",
       "    <tr>\n",
       "      <th>3</th>\n",
       "      <td>2254736</td>\n",
       "      <td>1</td>\n",
       "      <td>4</td>\n",
       "      <td>4</td>\n",
       "      <td>7</td>\n",
       "      <td>29.0</td>\n",
       "      <td>196.0</td>\n",
       "      <td>1.0</td>\n",
       "      <td>1.0</td>\n",
       "      <td>Soda</td>\n",
       "      <td>...</td>\n",
       "      <td>Non-frequent customer</td>\n",
       "      <td>Female</td>\n",
       "      <td>Alabama</td>\n",
       "      <td>31</td>\n",
       "      <td>2/17/2019</td>\n",
       "      <td>3</td>\n",
       "      <td>married</td>\n",
       "      <td>40423</td>\n",
       "      <td>South</td>\n",
       "      <td>High-activity</td>\n",
       "    </tr>\n",
       "    <tr>\n",
       "      <th>4</th>\n",
       "      <td>431534</td>\n",
       "      <td>1</td>\n",
       "      <td>5</td>\n",
       "      <td>4</td>\n",
       "      <td>15</td>\n",
       "      <td>28.0</td>\n",
       "      <td>196.0</td>\n",
       "      <td>1.0</td>\n",
       "      <td>1.0</td>\n",
       "      <td>Soda</td>\n",
       "      <td>...</td>\n",
       "      <td>Non-frequent customer</td>\n",
       "      <td>Female</td>\n",
       "      <td>Alabama</td>\n",
       "      <td>31</td>\n",
       "      <td>2/17/2019</td>\n",
       "      <td>3</td>\n",
       "      <td>married</td>\n",
       "      <td>40423</td>\n",
       "      <td>South</td>\n",
       "      <td>High-activity</td>\n",
       "    </tr>\n",
       "  </tbody>\n",
       "</table>\n",
       "<p>5 rows × 33 columns</p>\n",
       "</div>"
      ],
      "text/plain": [
       "   order_id  user_id  order_number  orders_day_of_week  order_hour_of_day  \\\n",
       "0   2539329        1             1                   2                  8   \n",
       "1   2398795        1             2                   3                  7   \n",
       "2    473747        1             3                   3                 12   \n",
       "3   2254736        1             4                   4                  7   \n",
       "4    431534        1             5                   4                 15   \n",
       "\n",
       "   days_since_prior_order  product_id  add_to_cart_order  reordered  \\\n",
       "0                     NaN       196.0                1.0        0.0   \n",
       "1                    15.0       196.0                1.0        1.0   \n",
       "2                    21.0       196.0                1.0        1.0   \n",
       "3                    29.0       196.0                1.0        1.0   \n",
       "4                    28.0       196.0                1.0        1.0   \n",
       "\n",
       "  product_name  ...   order_frequency_flag  gender    state age  \\\n",
       "0         Soda  ...  Non-frequent customer  Female  Alabama  31   \n",
       "1         Soda  ...  Non-frequent customer  Female  Alabama  31   \n",
       "2         Soda  ...  Non-frequent customer  Female  Alabama  31   \n",
       "3         Soda  ...  Non-frequent customer  Female  Alabama  31   \n",
       "4         Soda  ...  Non-frequent customer  Female  Alabama  31   \n",
       "\n",
       "  date_of_registration number_dependants marital_status income  region  \\\n",
       "0            2/17/2019                 3        married  40423   South   \n",
       "1            2/17/2019                 3        married  40423   South   \n",
       "2            2/17/2019                 3        married  40423   South   \n",
       "3            2/17/2019                 3        married  40423   South   \n",
       "4            2/17/2019                 3        married  40423   South   \n",
       "\n",
       "   activity_flag  \n",
       "0  High-activity  \n",
       "1  High-activity  \n",
       "2  High-activity  \n",
       "3  High-activity  \n",
       "4  High-activity  \n",
       "\n",
       "[5 rows x 33 columns]"
      ]
     },
     "execution_count": 5,
     "metadata": {},
     "output_type": "execute_result"
    }
   ],
   "source": [
    "# check column name and number of columns\n",
    "df_high_act_cust.head()"
   ]
  },
  {
   "cell_type": "code",
   "execution_count": 6,
   "id": "a277d715-f4d7-4bf4-984a-25065031b58d",
   "metadata": {},
   "outputs": [
    {
     "name": "stdout",
     "output_type": "stream",
     "text": [
      "<class 'pandas.core.frame.DataFrame'>\n",
      "Int64Index: 30964564 entries, 0 to 32404854\n",
      "Data columns (total 33 columns):\n",
      " #   Column                  Dtype   \n",
      "---  ------                  -----   \n",
      " 0   order_id                int64   \n",
      " 1   user_id                 int64   \n",
      " 2   order_number            int64   \n",
      " 3   orders_day_of_week      int64   \n",
      " 4   order_hour_of_day       int64   \n",
      " 5   days_since_prior_order  float64 \n",
      " 6   product_id              float64 \n",
      " 7   add_to_cart_order       float64 \n",
      " 8   reordered               float64 \n",
      " 9   product_name            object  \n",
      " 10  aisle_id                int64   \n",
      " 11  department_id           int64   \n",
      " 12  prices                  float64 \n",
      " 13  _merge                  category\n",
      " 14  price_range_loc         object  \n",
      " 15  busiest_day             object  \n",
      " 16  busiest_days            object  \n",
      " 17  busiest_period_of_day   object  \n",
      " 18  max_order               int64   \n",
      " 19  loyalty_flag            object  \n",
      " 20  average_price           float64 \n",
      " 21  spending_flag           object  \n",
      " 22  median_prior_orders     float64 \n",
      " 23  order_frequency_flag    object  \n",
      " 24  gender                  object  \n",
      " 25  state                   object  \n",
      " 26  age                     int64   \n",
      " 27  date_of_registration    object  \n",
      " 28  number_dependants       int64   \n",
      " 29  marital_status          object  \n",
      " 30  income                  int64   \n",
      " 31  region                  object  \n",
      " 32  activity_flag           object  \n",
      "dtypes: category(1), float64(7), int64(11), object(14)\n",
      "memory usage: 7.6+ GB\n"
     ]
    }
   ],
   "source": [
    "df_high_act_cust.info()"
   ]
  },
  {
   "cell_type": "code",
   "execution_count": 7,
   "id": "90006847-f772-4c9c-b4f4-da14685e3ceb",
   "metadata": {},
   "outputs": [
    {
     "data": {
      "text/html": [
       "<div>\n",
       "<style scoped>\n",
       "    .dataframe tbody tr th:only-of-type {\n",
       "        vertical-align: middle;\n",
       "    }\n",
       "\n",
       "    .dataframe tbody tr th {\n",
       "        vertical-align: top;\n",
       "    }\n",
       "\n",
       "    .dataframe thead th {\n",
       "        text-align: right;\n",
       "    }\n",
       "</style>\n",
       "<table border=\"1\" class=\"dataframe\">\n",
       "  <thead>\n",
       "    <tr style=\"text-align: right;\">\n",
       "      <th></th>\n",
       "      <th>Unnamed: 0</th>\n",
       "      <th>department</th>\n",
       "    </tr>\n",
       "  </thead>\n",
       "  <tbody>\n",
       "    <tr>\n",
       "      <th>0</th>\n",
       "      <td>1</td>\n",
       "      <td>frozen</td>\n",
       "    </tr>\n",
       "    <tr>\n",
       "      <th>1</th>\n",
       "      <td>2</td>\n",
       "      <td>other</td>\n",
       "    </tr>\n",
       "    <tr>\n",
       "      <th>2</th>\n",
       "      <td>3</td>\n",
       "      <td>bakery</td>\n",
       "    </tr>\n",
       "    <tr>\n",
       "      <th>3</th>\n",
       "      <td>4</td>\n",
       "      <td>produce</td>\n",
       "    </tr>\n",
       "    <tr>\n",
       "      <th>4</th>\n",
       "      <td>5</td>\n",
       "      <td>alcohol</td>\n",
       "    </tr>\n",
       "    <tr>\n",
       "      <th>5</th>\n",
       "      <td>6</td>\n",
       "      <td>international</td>\n",
       "    </tr>\n",
       "    <tr>\n",
       "      <th>6</th>\n",
       "      <td>7</td>\n",
       "      <td>beverages</td>\n",
       "    </tr>\n",
       "    <tr>\n",
       "      <th>7</th>\n",
       "      <td>8</td>\n",
       "      <td>pets</td>\n",
       "    </tr>\n",
       "    <tr>\n",
       "      <th>8</th>\n",
       "      <td>9</td>\n",
       "      <td>dry goods pasta</td>\n",
       "    </tr>\n",
       "    <tr>\n",
       "      <th>9</th>\n",
       "      <td>10</td>\n",
       "      <td>bulk</td>\n",
       "    </tr>\n",
       "    <tr>\n",
       "      <th>10</th>\n",
       "      <td>11</td>\n",
       "      <td>personal care</td>\n",
       "    </tr>\n",
       "    <tr>\n",
       "      <th>11</th>\n",
       "      <td>12</td>\n",
       "      <td>meat seafood</td>\n",
       "    </tr>\n",
       "    <tr>\n",
       "      <th>12</th>\n",
       "      <td>13</td>\n",
       "      <td>pantry</td>\n",
       "    </tr>\n",
       "    <tr>\n",
       "      <th>13</th>\n",
       "      <td>14</td>\n",
       "      <td>breakfast</td>\n",
       "    </tr>\n",
       "    <tr>\n",
       "      <th>14</th>\n",
       "      <td>15</td>\n",
       "      <td>canned goods</td>\n",
       "    </tr>\n",
       "    <tr>\n",
       "      <th>15</th>\n",
       "      <td>16</td>\n",
       "      <td>dairy eggs</td>\n",
       "    </tr>\n",
       "    <tr>\n",
       "      <th>16</th>\n",
       "      <td>17</td>\n",
       "      <td>household</td>\n",
       "    </tr>\n",
       "    <tr>\n",
       "      <th>17</th>\n",
       "      <td>18</td>\n",
       "      <td>babies</td>\n",
       "    </tr>\n",
       "    <tr>\n",
       "      <th>18</th>\n",
       "      <td>19</td>\n",
       "      <td>snacks</td>\n",
       "    </tr>\n",
       "    <tr>\n",
       "      <th>19</th>\n",
       "      <td>20</td>\n",
       "      <td>deli</td>\n",
       "    </tr>\n",
       "    <tr>\n",
       "      <th>20</th>\n",
       "      <td>21</td>\n",
       "      <td>missing</td>\n",
       "    </tr>\n",
       "  </tbody>\n",
       "</table>\n",
       "</div>"
      ],
      "text/plain": [
       "    Unnamed: 0       department\n",
       "0            1           frozen\n",
       "1            2            other\n",
       "2            3           bakery\n",
       "3            4          produce\n",
       "4            5          alcohol\n",
       "5            6    international\n",
       "6            7        beverages\n",
       "7            8             pets\n",
       "8            9  dry goods pasta\n",
       "9           10             bulk\n",
       "10          11    personal care\n",
       "11          12     meat seafood\n",
       "12          13           pantry\n",
       "13          14        breakfast\n",
       "14          15     canned goods\n",
       "15          16       dairy eggs\n",
       "16          17        household\n",
       "17          18           babies\n",
       "18          19           snacks\n",
       "19          20             deli\n",
       "20          21          missing"
      ]
     },
     "execution_count": 7,
     "metadata": {},
     "output_type": "execute_result"
    }
   ],
   "source": [
    "# Check department data set\n",
    "df_depts"
   ]
  },
  {
   "cell_type": "code",
   "execution_count": 8,
   "id": "b3d293d7-9c6c-435c-a468-65598c394b6c",
   "metadata": {},
   "outputs": [],
   "source": [
    "# Change the column name from Unnamed: 0 to department_id\n",
    "df_depts.rename(columns= {\"Unnamed: 0\": \"department_id\"}, inplace = True)"
   ]
  },
  {
   "cell_type": "markdown",
   "id": "8016b70e-33a2-45ed-ab2e-2730604068d1",
   "metadata": {},
   "source": [
    "## Customer profiling"
   ]
  },
  {
   "cell_type": "markdown",
   "id": "75cd998e-6822-4a53-8a80-125cbed4ab09",
   "metadata": {},
   "source": [
    "*The marketing and business strategy units at Instacart want to create more-relevant marketing strategies for different products and are, thus, curious about customer profiling in their database. Create a profiling variable based on age, income, certain goods in the “department_id” column, and number of dependents. You might also use the “orders_day_of_the_week” and “order_hour_of_day” columns if you can think of a way they would impact customer profiles. (Hint: As an example, try thinking of what characteristics would lead you to the profile “Single adult” or “Young parent.”)"
   ]
  },
  {
   "cell_type": "markdown",
   "id": "2aa413a1-b211-44fb-b870-95d034e0a652",
   "metadata": {
    "tags": []
   },
   "source": [
    "What are demographics are we going to be looking at?\n",
    " - Age\n",
    " - Income\n",
    " - Martial status and Number dependants "
   ]
  },
  {
   "cell_type": "markdown",
   "id": "a02e7746-a70d-420b-b39f-2d9645df6a05",
   "metadata": {},
   "source": [
    "#### - Age"
   ]
  },
  {
   "cell_type": "code",
   "execution_count": 9,
   "id": "3d02a253-1a1b-438d-ba83-391f43958797",
   "metadata": {
    "tags": []
   },
   "outputs": [
    {
     "data": {
      "text/plain": [
       "count    3.096456e+07\n",
       "mean     4.946803e+01\n",
       "std      1.848528e+01\n",
       "min      1.800000e+01\n",
       "25%      3.300000e+01\n",
       "50%      4.900000e+01\n",
       "75%      6.500000e+01\n",
       "max      8.100000e+01\n",
       "Name: age, dtype: float64"
      ]
     },
     "execution_count": 9,
     "metadata": {},
     "output_type": "execute_result"
    }
   ],
   "source": [
    "# Exploring descriptive statistics of 'age' column\n",
    "df_high_act_cust['age'].describe()"
   ]
  },
  {
   "cell_type": "markdown",
   "id": "6e90cf4a-c3af-4990-92bd-a745fdf3f9c6",
   "metadata": {},
   "source": [
    "Result: The minimum age is 18 and the maximum is 81 and the rest is adult or Middle aged\n",
    "Grouping age groups\n",
    "\n",
    "Youth: 18 - 39\n",
    "Middle Aged: 40 - 64\n",
    "Senior: 65+"
   ]
  },
  {
   "cell_type": "code",
   "execution_count": 10,
   "id": "18ea5cce-89c9-49ae-acbc-154c73e7adff",
   "metadata": {},
   "outputs": [],
   "source": [
    "#creating age categories\n",
    "df_high_act_cust.loc[(df_high_act_cust['age'] >= 18) & (df_high_act_cust['age'] < 40), 'age_category'] = 'Youth'\n",
    "df_high_act_cust.loc[(df_high_act_cust['age'] >= 40) & (df_high_act_cust['age'] < 65), 'age_category'] = 'Middle Aged'\n",
    "df_high_act_cust.loc[df_high_act_cust['age'] >= 65, 'age_category'] = 'Senior'"
   ]
  },
  {
   "cell_type": "code",
   "execution_count": 11,
   "id": "b37e65b3-9343-4a73-b58d-1ff2f7219a9a",
   "metadata": {},
   "outputs": [
    {
     "data": {
      "text/plain": [
       "Middle Aged    12103910\n",
       "Youth          10665110\n",
       "Senior          8195544\n",
       "Name: age_category, dtype: int64"
      ]
     },
     "execution_count": 11,
     "metadata": {},
     "output_type": "execute_result"
    }
   ],
   "source": [
    "# Checking age_category values\n",
    "df_high_act_cust['age_category'].value_counts()"
   ]
  },
  {
   "cell_type": "code",
   "execution_count": 12,
   "id": "e785ea06-3742-4eaa-ae81-3140ea519781",
   "metadata": {},
   "outputs": [
    {
     "data": {
      "text/plain": [
       "(30964564, 34)"
      ]
     },
     "execution_count": 12,
     "metadata": {},
     "output_type": "execute_result"
    }
   ],
   "source": [
    "# Confirming the added column\n",
    "df_high_act_cust.shape"
   ]
  },
  {
   "cell_type": "code",
   "execution_count": 13,
   "id": "aa10582d-621f-4379-a346-cc73eb03e87c",
   "metadata": {},
   "outputs": [],
   "source": [
    "# Customer comparison by age & day of week\n",
    "crosstab_age_day = pd.crosstab(df_high_act_cust['age_category'], df_high_act_cust['orders_day_of_week'], dropna = False)"
   ]
  },
  {
   "cell_type": "code",
   "execution_count": 90,
   "id": "113acf2a-c1ef-4004-902f-13a9f4b760a7",
   "metadata": {},
   "outputs": [
    {
     "data": {
      "text/plain": [
       "Text(0.5, 0, 'Ages Group')"
      ]
     },
     "execution_count": 90,
     "metadata": {},
     "output_type": "execute_result"
    },
    {
     "data": {
      "image/png": "[encoded data removed]",
      "text/plain": [
       "<Figure size 640x480 with 1 Axes>"
      ]
     },
     "metadata": {},
     "output_type": "display_data"
    }
   ],
   "source": [
    "# Visualization of crosstab_age_day\n",
    "bar_age_day = crosstab_age_day.plot(kind = 'bar', rot = 0, color= ['purple', 'blue', 'gold', 'lightgreen', 'violet','orange', 'gray'])\n",
    "bar_age_day.legend(title='Days', bbox_to_anchor=(1, 1.02), loc='upper left', labels=['Saturday', 'Sunday', 'Monday', 'Tuesday', 'Wednesday', 'Thursday', 'Friday'])\n",
    "plt.title('Purchases in days of week by Age', fontsize = 18, pad=20)\n",
    "plt.ylabel('Frequency (in millions)', fontsize = 12)\n",
    "plt.xlabel('Ages Group',  fontsize = 12)"
   ]
  },
  {
   "cell_type": "markdown",
   "id": "5fc7564d-a3a2-4931-82c2-970a32da198b",
   "metadata": {},
   "source": [
    "Across all 3 Age Groups of Seniors, Middle-Aged & Youth\n",
    "\n",
    "Busiest Day = Saturday\n",
    "\n",
    "Slowest Day = Wednesday"
   ]
  },
  {
   "cell_type": "code",
   "execution_count": 15,
   "id": "2d3aa280-e5ee-4f50-b8fe-0da2916e6922",
   "metadata": {},
   "outputs": [],
   "source": [
    "# Export bar chart by age group\n",
    "bar_age_day.figure.savefig(os.path.join(path, '04 Analysis', 'Visualizations','bar_age_day_of_week_03.16.png'))"
   ]
  },
  {
   "cell_type": "code",
   "execution_count": 16,
   "id": "45cfef6b-0f10-4f55-9c8b-f356ed06d305",
   "metadata": {},
   "outputs": [],
   "source": [
    "# create busiest_of_days_03\n",
    "busiest_of_days_03 = []\n",
    "\n",
    "for value in df_high_act_cust[\"order_hour_of_day\"]:\n",
    "  if value in [10,11,14,15,13,12,16,9]:\n",
    "    busiest_of_days_03.append(\"Stardard hours\")\n",
    "  elif value in [23,6,0,1,5,2,4,3]:\n",
    "    busiest_of_days_03.append(\"Early bird\")\n",
    "  else:\n",
    "    busiest_of_days_03.append(\"Night owl\")"
   ]
  },
  {
   "cell_type": "code",
   "execution_count": 17,
   "id": "5dbe40ff-dc96-43de-b339-94de26359635",
   "metadata": {},
   "outputs": [],
   "source": [
    "df_high_act_cust['busiest_of_days_for_chart']= busiest_of_days_03"
   ]
  },
  {
   "cell_type": "code",
   "execution_count": 18,
   "id": "cfc9589a-4ab3-426f-86c3-b8b8a3af1e36",
   "metadata": {},
   "outputs": [],
   "source": [
    "# Customer comparison by region & order hour of day \n",
    "crosstab_age_hour = pd.crosstab(df_high_act_cust['age_category'], df_high_act_cust['busiest_of_days_for_chart'], dropna = False)"
   ]
  },
  {
   "cell_type": "code",
   "execution_count": 19,
   "id": "e43390dd-06b2-4bb0-8f16-8f22f98fd06f",
   "metadata": {},
   "outputs": [
    {
     "data": {
      "text/plain": [
       "Text(0.5, 0, 'Age Group')"
      ]
     },
     "execution_count": 19,
     "metadata": {},
     "output_type": "execute_result"
    },
    {
     "data": {
      "image/png": "[encoded data removed]",
      "text/plain": [
       "<Figure size 640x480 with 1 Axes>"
      ]
     },
     "metadata": {},
     "output_type": "display_data"
    }
   ],
   "source": [
    "# Visualization of crosstab_age_day\n",
    "bar_age_day = crosstab_age_hour.plot(kind = 'bar', rot = 0, color= ['gold', 'purple', 'blue'])\n",
    "bar_age_day.legend(title='Days', bbox_to_anchor=(1, 1.02), loc='upper left', labels=['Standard hours', 'Early bird', 'Night owl'])\n",
    "plt.title('Frequency of hour purchased during day', fontsize = 18, pad=20)\n",
    "plt.ylabel('Frequency (in millions)', fontsize = 12)\n",
    "plt.xlabel('Age Group',  fontsize = 18)"
   ]
  },
  {
   "cell_type": "markdown",
   "id": "95cc8806-8b3e-4f68-ba82-1da2c717c8d7",
   "metadata": {},
   "source": [
    "#### - Income"
   ]
  },
  {
   "cell_type": "code",
   "execution_count": 20,
   "id": "cabbbb1f-ab5d-45bb-8479-6c89279b5fbd",
   "metadata": {},
   "outputs": [
    {
     "data": {
      "text/plain": [
       "count    3.096456e+07\n",
       "mean     9.967587e+04\n",
       "std      4.314187e+04\n",
       "min      2.590300e+04\n",
       "25%      6.729200e+04\n",
       "50%      9.676500e+04\n",
       "75%      1.281020e+05\n",
       "max      5.939010e+05\n",
       "Name: income, dtype: float64"
      ]
     },
     "execution_count": 20,
     "metadata": {},
     "output_type": "execute_result"
    }
   ],
   "source": [
    "# # Exploring descriptive statistics of 'income' column\n",
    "df_high_act_cust['income'].describe()"
   ]
  },
  {
   "cell_type": "markdown",
   "id": "8f9dc19a-e8f0-4d6d-9672-ab51c8669f0b",
   "metadata": {},
   "source": [
    "Result: Lowest Income = 25,900 and The Highest is 593,901 USD \n",
    "Grouping Customers by income\n",
    "\n",
    "Low = <70,000\n",
    "Middle-class = 70,000-100,000\n",
    "Upper-middle-class = 100,000-130,000\n",
    "High = >130,000"
   ]
  },
  {
   "cell_type": "code",
   "execution_count": 21,
   "id": "a5c9166d-9337-4785-b4bc-7daced577762",
   "metadata": {},
   "outputs": [],
   "source": [
    "# Creating income_category columns\n",
    "df_high_act_cust.loc[df_high_act_cust['income']< 70000, 'income_category'] = 'Low'\n",
    "df_high_act_cust.loc[(df_high_act_cust['income']>= 70000) & (df_high_act_cust['income']< 100000), 'income_category'] = 'Middle-class'\n",
    "df_high_act_cust.loc[(df_high_act_cust['income']>= 100000) & (df_high_act_cust['income']< 130000), 'income_category'] = 'Upper-mid-class'\n",
    "df_high_act_cust.loc[df_high_act_cust['income']>= 130000, 'income_category'] = 'High'"
   ]
  },
  {
   "cell_type": "code",
   "execution_count": 22,
   "id": "10e4f894-f91d-4beb-ad3d-7993c39b5d82",
   "metadata": {},
   "outputs": [
    {
     "data": {
      "text/plain": [
       "Low                8520533\n",
       "Middle-class       8236629\n",
       "High               7401414\n",
       "Upper-mid-class    6805988\n",
       "Name: income_category, dtype: int64"
      ]
     },
     "execution_count": 22,
     "metadata": {},
     "output_type": "execute_result"
    }
   ],
   "source": [
    "# Checking income_category values\n",
    "df_high_act_cust['income_category'].value_counts(dropna = False)"
   ]
  },
  {
   "cell_type": "code",
   "execution_count": 23,
   "id": "f8b68ec2-e898-4700-9e86-535c1317289a",
   "metadata": {},
   "outputs": [
    {
     "data": {
      "text/plain": [
       "(30964564, 36)"
      ]
     },
     "execution_count": 23,
     "metadata": {},
     "output_type": "execute_result"
    }
   ],
   "source": [
    "# Confirming the added column\n",
    "df_high_act_cust.shape"
   ]
  },
  {
   "cell_type": "code",
   "execution_count": 24,
   "id": "38cdc29c-0ffc-40eb-887a-0c0926456cd2",
   "metadata": {},
   "outputs": [
    {
     "data": {
      "image/png": "[encoded data removed]",
      "text/plain": [
       "<Figure size 640x480 with 1 Axes>"
      ]
     },
     "metadata": {},
     "output_type": "display_data"
    }
   ],
   "source": [
    "# Create an income histogram\n",
    "plt.title('Instacart Customers Income', fontsize = 18, pad=20)\n",
    "hist_inc = df_high_act_cust['income'].plot.hist(bins = 20, color = 'purple')"
   ]
  },
  {
   "cell_type": "code",
   "execution_count": 25,
   "id": "aed4226b-076a-4e83-a0fd-bae3c96616ad",
   "metadata": {},
   "outputs": [],
   "source": [
    "# Export histogram chart\n",
    "hist_inc.figure.savefig(os.path.join(path, '04 Analysis', 'Visualizations','income_histogram_03.16.png'))"
   ]
  },
  {
   "cell_type": "markdown",
   "id": "67523fa9-1a6b-4329-af08-33915e023577",
   "metadata": {
    "tags": []
   },
   "source": [
    "#### - Martial status and Number of dependants"
   ]
  },
  {
   "cell_type": "code",
   "execution_count": 26,
   "id": "1da6e3eb-f166-414f-8d1b-d3bef729a797",
   "metadata": {},
   "outputs": [
    {
     "data": {
      "text/plain": [
       "count    3.096456e+07\n",
       "mean     1.501819e+00\n",
       "std      1.118896e+00\n",
       "min      0.000000e+00\n",
       "25%      1.000000e+00\n",
       "50%      2.000000e+00\n",
       "75%      3.000000e+00\n",
       "max      3.000000e+00\n",
       "Name: number_dependants, dtype: float64"
      ]
     },
     "execution_count": 26,
     "metadata": {},
     "output_type": "execute_result"
    }
   ],
   "source": [
    "# Exploring 'number_of_dependents'\n",
    "df_high_act_cust['number_dependants'].describe()"
   ]
  },
  {
   "cell_type": "markdown",
   "id": "895265b0-3537-4d63-80e4-b31041197074",
   "metadata": {},
   "source": [
    "Result: Min = 0 and  Max = 3 (dependents per family)\n",
    "\n",
    "Grouping families by size\n",
    "Small = 0\n",
    "Middle Sized = 1-2\n",
    "Large = 3"
   ]
  },
  {
   "cell_type": "code",
   "execution_count": 27,
   "id": "3b26a19d-40bc-41d2-bdca-159db195f008",
   "metadata": {},
   "outputs": [],
   "source": [
    "# Creating family_size column\n",
    "df_high_act_cust.loc[df_high_act_cust['number_dependants'] == 0, 'family_size'] = 'Small'\n",
    "df_high_act_cust.loc[(df_high_act_cust['number_dependants'] == 1) | (df_high_act_cust['number_dependants'] == 2), 'family_size'] = 'Mid sized'\n",
    "df_high_act_cust.loc[df_high_act_cust['number_dependants'] > 2, 'family_size'] = 'Large'"
   ]
  },
  {
   "cell_type": "code",
   "execution_count": 28,
   "id": "2939e341-0e0c-4fbe-af98-190fc705b3a1",
   "metadata": {},
   "outputs": [
    {
     "data": {
      "text/plain": [
       "Mid sized    15452367\n",
       "Large         7772516\n",
       "Small         7739681\n",
       "Name: family_size, dtype: int64"
      ]
     },
     "execution_count": 28,
     "metadata": {},
     "output_type": "execute_result"
    }
   ],
   "source": [
    "df_high_act_cust['family_size'].value_counts(dropna = False)"
   ]
  },
  {
   "cell_type": "code",
   "execution_count": 29,
   "id": "66d60393-a9ce-4608-a8de-9f6b4903c346",
   "metadata": {},
   "outputs": [],
   "source": [
    "# Exploring the connection of 'marital_status' and 'no_of_dependents'\n",
    "family_crosstab = pd.crosstab(df_high_act_cust['marital_status'],df_high_act_cust['number_dependants'],dropna = False)"
   ]
  },
  {
   "cell_type": "code",
   "execution_count": 30,
   "id": "c263b256-c295-4a8e-bb73-0e547f27ddda",
   "metadata": {},
   "outputs": [
    {
     "data": {
      "text/html": [
       "<div>\n",
       "<style scoped>\n",
       "    .dataframe tbody tr th:only-of-type {\n",
       "        vertical-align: middle;\n",
       "    }\n",
       "\n",
       "    .dataframe tbody tr th {\n",
       "        vertical-align: top;\n",
       "    }\n",
       "\n",
       "    .dataframe thead th {\n",
       "        text-align: right;\n",
       "    }\n",
       "</style>\n",
       "<table border=\"1\" class=\"dataframe\">\n",
       "  <thead>\n",
       "    <tr style=\"text-align: right;\">\n",
       "      <th>number_dependants</th>\n",
       "      <th>0</th>\n",
       "      <th>1</th>\n",
       "      <th>2</th>\n",
       "      <th>3</th>\n",
       "    </tr>\n",
       "    <tr>\n",
       "      <th>marital_status</th>\n",
       "      <th></th>\n",
       "      <th></th>\n",
       "      <th></th>\n",
       "      <th></th>\n",
       "    </tr>\n",
       "  </thead>\n",
       "  <tbody>\n",
       "    <tr>\n",
       "      <th>divorced/widowed</th>\n",
       "      <td>2645271</td>\n",
       "      <td>0</td>\n",
       "      <td>0</td>\n",
       "      <td>0</td>\n",
       "    </tr>\n",
       "    <tr>\n",
       "      <th>living with parents and siblings</th>\n",
       "      <td>0</td>\n",
       "      <td>508045</td>\n",
       "      <td>484658</td>\n",
       "      <td>488469</td>\n",
       "    </tr>\n",
       "    <tr>\n",
       "      <th>married</th>\n",
       "      <td>0</td>\n",
       "      <td>7211061</td>\n",
       "      <td>7248603</td>\n",
       "      <td>7284047</td>\n",
       "    </tr>\n",
       "    <tr>\n",
       "      <th>single</th>\n",
       "      <td>5094410</td>\n",
       "      <td>0</td>\n",
       "      <td>0</td>\n",
       "      <td>0</td>\n",
       "    </tr>\n",
       "  </tbody>\n",
       "</table>\n",
       "</div>"
      ],
      "text/plain": [
       "number_dependants                       0        1        2        3\n",
       "marital_status                                                      \n",
       "divorced/widowed                  2645271        0        0        0\n",
       "living with parents and siblings        0   508045   484658   488469\n",
       "married                                 0  7211061  7248603  7284047\n",
       "single                            5094410        0        0        0"
      ]
     },
     "execution_count": 30,
     "metadata": {},
     "output_type": "execute_result"
    }
   ],
   "source": [
    "family_crosstab"
   ]
  },
  {
   "cell_type": "code",
   "execution_count": 31,
   "id": "31cb6f79-a1aa-4671-a7ba-6727b98350bc",
   "metadata": {},
   "outputs": [],
   "source": [
    "df_high_act_cust.loc[(df_high_act_cust['marital_status'] == 'married') & (df_high_act_cust['number_dependants'] == 1), 'household'] = 'Couple Without Children'\n",
    "df_high_act_cust.loc[(df_high_act_cust['marital_status'] == 'married') & (df_high_act_cust['number_dependants'] >= 2), 'household'] = 'Couple With Children'\n",
    "df_high_act_cust.loc[(df_high_act_cust['marital_status'] == 'divorced/widowed') | (df_high_act_cust['marital_status'] == 'single'), 'household'] = 'Single Person'\n",
    "df_high_act_cust.loc[(df_high_act_cust['marital_status'] == 'divorced/widowed') & (df_high_act_cust['number_dependants'] > 0 ), 'household'] = 'Single Parent'\n",
    "df_high_act_cust.loc[df_high_act_cust['marital_status'] == 'living with parents and siblings', 'household'] = 'Other Family'"
   ]
  },
  {
   "cell_type": "code",
   "execution_count": 32,
   "id": "61cd66a6-92eb-4bcc-81c5-1133c27686e1",
   "metadata": {},
   "outputs": [
    {
     "data": {
      "text/plain": [
       "Couple With Children       14532650\n",
       "Single Person               7739681\n",
       "Couple Without Children     7211061\n",
       "Other Family                1481172\n",
       "Name: household, dtype: int64"
      ]
     },
     "execution_count": 32,
     "metadata": {},
     "output_type": "execute_result"
    }
   ],
   "source": [
    "# Checking new column (household)\n",
    "df_high_act_cust['household'].value_counts(dropna = False)"
   ]
  },
  {
   "cell_type": "code",
   "execution_count": 33,
   "id": "3ce3490e-fff1-466e-b790-7b2dd246fa43",
   "metadata": {},
   "outputs": [
    {
     "data": {
      "text/plain": [
       "(30964564, 38)"
      ]
     },
     "execution_count": 33,
     "metadata": {},
     "output_type": "execute_result"
    }
   ],
   "source": [
    "# Confirming added column\n",
    "df_high_act_cust.shape"
   ]
  },
  {
   "cell_type": "code",
   "execution_count": 34,
   "id": "7da331e5-351a-4671-af27-43b670f52dec",
   "metadata": {},
   "outputs": [
    {
     "data": {
      "text/plain": [
       "(array([0, 1, 2, 3]),\n",
       " [Text(0, 0, 'Couple With Children'),\n",
       "  Text(1, 0, 'Single Person'),\n",
       "  Text(2, 0, 'Couple Without Children'),\n",
       "  Text(3, 0, 'Other Family')])"
      ]
     },
     "execution_count": 34,
     "metadata": {},
     "output_type": "execute_result"
    },
    {
     "data": {
      "image/png": "[encoded data removed]",
      "text/plain": [
       "<Figure size 640x480 with 1 Axes>"
      ]
     },
     "metadata": {},
     "output_type": "display_data"
    }
   ],
   "source": [
    "bar_household = df_high_act_cust['household'].value_counts().plot.bar(color= ['blue', 'purple', 'brown', 'gold'])\n",
    "plt.title('Household Distribution of Instacart Customers', fontsize = 18, pad=20)\n",
    "plt.ylabel('Frequency (in millions)', fontsize = 12)\n",
    "plt.xlabel('Household',  fontsize = 12)\n",
    "plt.xticks(rotation=45)"
   ]
  },
  {
   "cell_type": "code",
   "execution_count": 35,
   "id": "01e49b31-0f88-44cd-9a12-f54af677cff9",
   "metadata": {},
   "outputs": [],
   "source": [
    "# Export the bar chart\n",
    "bar_household.figure.savefig(os.path.join(path, '04 Analysis', 'Visualizations','customer_houshold_stats_barchart_03_16.png'))"
   ]
  },
  {
   "cell_type": "markdown",
   "id": "cbed26eb-ee8b-4d9b-aa62-a81e50c75a08",
   "metadata": {
    "tags": []
   },
   "source": [
    "## Customer profile comparison in regions and departments."
   ]
  },
  {
   "cell_type": "code",
   "execution_count": 36,
   "id": "1a5e29cf-448c-4ff5-87f3-b1ac5405b90c",
   "metadata": {},
   "outputs": [],
   "source": [
    "# Create dictionary \n",
    "depts_map = dict(zip(df_depts[\"department_id\"], df_depts[\"department\"]))"
   ]
  },
  {
   "cell_type": "code",
   "execution_count": 37,
   "id": "5b6a8c2d-e432-4075-9934-85f102b30e11",
   "metadata": {},
   "outputs": [
    {
     "data": {
      "text/plain": [
       "{1: 'frozen',\n",
       " 2: 'other',\n",
       " 3: 'bakery',\n",
       " 4: 'produce',\n",
       " 5: 'alcohol',\n",
       " 6: 'international',\n",
       " 7: 'beverages',\n",
       " 8: 'pets',\n",
       " 9: 'dry goods pasta',\n",
       " 10: 'bulk',\n",
       " 11: 'personal care',\n",
       " 12: 'meat seafood',\n",
       " 13: 'pantry',\n",
       " 14: 'breakfast',\n",
       " 15: 'canned goods',\n",
       " 16: 'dairy eggs',\n",
       " 17: 'household',\n",
       " 18: 'babies',\n",
       " 19: 'snacks',\n",
       " 20: 'deli',\n",
       " 21: 'missing'}"
      ]
     },
     "execution_count": 37,
     "metadata": {},
     "output_type": "execute_result"
    }
   ],
   "source": [
    "depts_map"
   ]
  },
  {
   "cell_type": "code",
   "execution_count": 38,
   "id": "fefe6ae0-13ef-4e0f-8832-e22074a66340",
   "metadata": {
    "jupyter": {
     "source_hidden": true
    },
    "tags": []
   },
   "outputs": [],
   "source": [
    "df_high_act_cust['department'] = df_high_act_cust['department_id'].map(depts_map)"
   ]
  },
  {
   "cell_type": "code",
   "execution_count": 39,
   "id": "9e7d3738-8207-4888-ab04-7fbb84233aff",
   "metadata": {},
   "outputs": [
    {
     "data": {
      "text/plain": [
       "(30964564, 39)"
      ]
     },
     "execution_count": 39,
     "metadata": {},
     "output_type": "execute_result"
    }
   ],
   "source": [
    "df_high_act_cust.shape"
   ]
  },
  {
   "cell_type": "code",
   "execution_count": 40,
   "id": "2f53ab4c-b743-4cc6-97cd-de4ca9c51029",
   "metadata": {
    "tags": []
   },
   "outputs": [
    {
     "data": {
      "text/plain": [
       "produce            9079273\n",
       "dairy eggs         5177182\n",
       "snacks             2766406\n",
       "beverages          2571901\n",
       "frozen             2121731\n",
       "pantry             1782705\n",
       "bakery             1120828\n",
       "canned goods       1012074\n",
       "deli               1003834\n",
       "dry goods pasta     822136\n",
       "household           699857\n",
       "meat seafood        674781\n",
       "breakfast           670850\n",
       "personal care       424306\n",
       "babies              410392\n",
       "international       255991\n",
       "alcohol             144627\n",
       "pets                 93060\n",
       "missing              64768\n",
       "other                34411\n",
       "bulk                 33451\n",
       "Name: department, dtype: int64"
      ]
     },
     "execution_count": 40,
     "metadata": {},
     "output_type": "execute_result"
    }
   ],
   "source": [
    "# Distribution of 'department' values in 'df_high_act_cust' dataframe\n",
    "df_high_act_cust['department'].value_counts(dropna = False)"
   ]
  },
  {
   "cell_type": "code",
   "execution_count": null,
   "id": "0e4cc355-eb51-44d0-adc3-766273853345",
   "metadata": {
    "jupyter": {
     "source_hidden": true
    },
    "tags": []
   },
   "outputs": [],
   "source": []
  },
  {
   "cell_type": "markdown",
   "id": "7f1e060e-3530-44e9-b607-3d71aeb83105",
   "metadata": {},
   "source": [
    "### Behavioral Market Segmentation: "
   ]
  },
  {
   "cell_type": "code",
   "execution_count": 41,
   "id": "d30e51fa-4a9d-4676-901c-e71a23ca8401",
   "metadata": {},
   "outputs": [],
   "source": [
    "# Creating alcohol_drinker column\n",
    "df_high_act_cust.loc[df_high_act_cust['department'] !='alcohol', 'alcohol_drinker'] = 'No'\n",
    "df_high_act_cust.loc[df_high_act_cust['department'] =='alcohol', 'alcohol_drinker'] = 'Yes'"
   ]
  },
  {
   "cell_type": "code",
   "execution_count": 42,
   "id": "5ed62802-0347-4cb1-aeae-50b72ffa8276",
   "metadata": {},
   "outputs": [
    {
     "data": {
      "text/plain": [
       "No     30819937\n",
       "Yes      144627\n",
       "Name: alcohol_drinker, dtype: int64"
      ]
     },
     "execution_count": 42,
     "metadata": {},
     "output_type": "execute_result"
    }
   ],
   "source": [
    "df_high_act_cust['alcohol_drinker'].value_counts(dropna = False)"
   ]
  },
  {
   "cell_type": "code",
   "execution_count": 43,
   "id": "adace512-c109-437f-ab85-a7cd87e9f92f",
   "metadata": {},
   "outputs": [
    {
     "data": {
      "text/plain": [
       "Text(0.5, 1.0, 'Distribution of alcohol-drinkers ')"
      ]
     },
     "execution_count": 43,
     "metadata": {},
     "output_type": "execute_result"
    },
    {
     "data": {
      "image/png": "[encoded data removed]",
      "text/plain": [
       "<Figure size 640x480 with 1 Axes>"
      ]
     },
     "metadata": {},
     "output_type": "display_data"
    }
   ],
   "source": [
    "# Drawing a pie chart for alcohol drinking profiling\n",
    "\n",
    "alcohol_drinker_pie = df_high_act_cust['alcohol_drinker'].value_counts().plot.pie(labels = ['Drinker','Non-drinker'], autopct=('%.1f%%'), colors = ['violet', 'pink'], label = '', explode = [0,0.2])\n",
    "alcohol_drinker_pie.legend(title = 'Customer Drinking Status: ', loc = 'lower right')\n",
    "plt.title(\"Distribution of alcohol-drinkers \", fontsize = '18')"
   ]
  },
  {
   "cell_type": "code",
   "execution_count": 44,
   "id": "18c75686-85e6-44a2-8314-645d31616fe0",
   "metadata": {},
   "outputs": [],
   "source": [
    "# Create Families with Babies\n",
    "df_high_act_cust.loc[df_high_act_cust['department'] == 'babies','Has_babies'] = 'Yes'\n",
    "df_high_act_cust.loc[df_high_act_cust['department'] != 'babies','Has_babies'] = 'No'"
   ]
  },
  {
   "cell_type": "code",
   "execution_count": 45,
   "id": "3c051e56-e2f0-48f3-b484-cb3541525ddd",
   "metadata": {},
   "outputs": [
    {
     "data": {
      "text/plain": [
       "No     30554172\n",
       "Yes      410392\n",
       "Name: Has_babies, dtype: int64"
      ]
     },
     "execution_count": 45,
     "metadata": {},
     "output_type": "execute_result"
    }
   ],
   "source": [
    "df_high_act_cust['Has_babies'].value_counts(dropna = False)"
   ]
  },
  {
   "cell_type": "code",
   "execution_count": 46,
   "id": "050a2c3a-f3ea-4b25-a97c-17e30fa05153",
   "metadata": {},
   "outputs": [
    {
     "data": {
      "text/plain": [
       "(30964564, 41)"
      ]
     },
     "execution_count": 46,
     "metadata": {},
     "output_type": "execute_result"
    }
   ],
   "source": [
    "df_high_act_cust.shape"
   ]
  },
  {
   "cell_type": "code",
   "execution_count": 47,
   "id": "24f0ef1e-963c-46dc-a41f-15b1a901192d",
   "metadata": {},
   "outputs": [],
   "source": [
    "# Create Stacked-bar chart of 'income_category' column in different regions\n",
    "\n",
    "crosstab_income_region = pd.crosstab (df_high_act_cust['region'],df_high_act_cust['income_category'], dropna = False)"
   ]
  },
  {
   "cell_type": "code",
   "execution_count": 48,
   "id": "72980a22-3197-4cff-8d71-ff50027e07db",
   "metadata": {},
   "outputs": [
    {
     "data": {
      "text/html": [
       "<div>\n",
       "<style scoped>\n",
       "    .dataframe tbody tr th:only-of-type {\n",
       "        vertical-align: middle;\n",
       "    }\n",
       "\n",
       "    .dataframe tbody tr th {\n",
       "        vertical-align: top;\n",
       "    }\n",
       "\n",
       "    .dataframe thead th {\n",
       "        text-align: right;\n",
       "    }\n",
       "</style>\n",
       "<table border=\"1\" class=\"dataframe\">\n",
       "  <thead>\n",
       "    <tr style=\"text-align: right;\">\n",
       "      <th>income_category</th>\n",
       "      <th>High</th>\n",
       "      <th>Low</th>\n",
       "      <th>Middle-class</th>\n",
       "      <th>Upper-mid-class</th>\n",
       "    </tr>\n",
       "    <tr>\n",
       "      <th>region</th>\n",
       "      <th></th>\n",
       "      <th></th>\n",
       "      <th></th>\n",
       "      <th></th>\n",
       "    </tr>\n",
       "  </thead>\n",
       "  <tbody>\n",
       "    <tr>\n",
       "      <th>Midwest</th>\n",
       "      <td>1763002</td>\n",
       "      <td>1974266</td>\n",
       "      <td>1887154</td>\n",
       "      <td>1637091</td>\n",
       "    </tr>\n",
       "    <tr>\n",
       "      <th>Northeast</th>\n",
       "      <td>1308807</td>\n",
       "      <td>1486808</td>\n",
       "      <td>1461393</td>\n",
       "      <td>1207677</td>\n",
       "    </tr>\n",
       "    <tr>\n",
       "      <th>South</th>\n",
       "      <td>2442801</td>\n",
       "      <td>2849538</td>\n",
       "      <td>2797656</td>\n",
       "      <td>2221144</td>\n",
       "    </tr>\n",
       "    <tr>\n",
       "      <th>West</th>\n",
       "      <td>1886804</td>\n",
       "      <td>2209921</td>\n",
       "      <td>2090426</td>\n",
       "      <td>1740076</td>\n",
       "    </tr>\n",
       "  </tbody>\n",
       "</table>\n",
       "</div>"
      ],
      "text/plain": [
       "income_category     High      Low  Middle-class  Upper-mid-class\n",
       "region                                                          \n",
       "Midwest          1763002  1974266       1887154          1637091\n",
       "Northeast        1308807  1486808       1461393          1207677\n",
       "South            2442801  2849538       2797656          2221144\n",
       "West             1886804  2209921       2090426          1740076"
      ]
     },
     "execution_count": 48,
     "metadata": {},
     "output_type": "execute_result"
    }
   ],
   "source": [
    "crosstab_income_region"
   ]
  },
  {
   "cell_type": "code",
   "execution_count": 49,
   "id": "23bc678c-8327-4823-8ec9-c4df5d10b7ba",
   "metadata": {},
   "outputs": [],
   "source": [
    "crosstab_baby_region = pd.crosstab(df_high_act_cust['region'], df_high_act_cust['Has_babies'], dropna = False)"
   ]
  },
  {
   "cell_type": "code",
   "execution_count": 50,
   "id": "06f8dbea-a1db-41f2-accf-4fca775f094b",
   "metadata": {},
   "outputs": [
    {
     "data": {
      "text/html": [
       "<div>\n",
       "<style scoped>\n",
       "    .dataframe tbody tr th:only-of-type {\n",
       "        vertical-align: middle;\n",
       "    }\n",
       "\n",
       "    .dataframe tbody tr th {\n",
       "        vertical-align: top;\n",
       "    }\n",
       "\n",
       "    .dataframe thead th {\n",
       "        text-align: right;\n",
       "    }\n",
       "</style>\n",
       "<table border=\"1\" class=\"dataframe\">\n",
       "  <thead>\n",
       "    <tr style=\"text-align: right;\">\n",
       "      <th>Has_babies</th>\n",
       "      <th>No</th>\n",
       "      <th>Yes</th>\n",
       "    </tr>\n",
       "    <tr>\n",
       "      <th>region</th>\n",
       "      <th></th>\n",
       "      <th></th>\n",
       "    </tr>\n",
       "  </thead>\n",
       "  <tbody>\n",
       "    <tr>\n",
       "      <th>Midwest</th>\n",
       "      <td>7165772</td>\n",
       "      <td>95741</td>\n",
       "    </tr>\n",
       "    <tr>\n",
       "      <th>Northeast</th>\n",
       "      <td>5391973</td>\n",
       "      <td>72712</td>\n",
       "    </tr>\n",
       "    <tr>\n",
       "      <th>South</th>\n",
       "      <td>10171628</td>\n",
       "      <td>139511</td>\n",
       "    </tr>\n",
       "    <tr>\n",
       "      <th>West</th>\n",
       "      <td>7824799</td>\n",
       "      <td>102428</td>\n",
       "    </tr>\n",
       "  </tbody>\n",
       "</table>\n",
       "</div>"
      ],
      "text/plain": [
       "Has_babies        No     Yes\n",
       "region                      \n",
       "Midwest      7165772   95741\n",
       "Northeast    5391973   72712\n",
       "South       10171628  139511\n",
       "West         7824799  102428"
      ]
     },
     "execution_count": 50,
     "metadata": {},
     "output_type": "execute_result"
    }
   ],
   "source": [
    "crosstab_baby_region"
   ]
  },
  {
   "cell_type": "code",
   "execution_count": 51,
   "id": "372237a0-b7e1-4195-9d5a-d09568fd4bdc",
   "metadata": {},
   "outputs": [
    {
     "data": {
      "image/png": "[encoded data removed]",
      "text/plain": [
       "<Figure size 640x480 with 1 Axes>"
      ]
     },
     "metadata": {},
     "output_type": "display_data"
    }
   ],
   "source": [
    "bar_baby_region = crosstab_baby_region.plot(kind = 'bar', stacked = True, color= ['lightgreen', 'violet'])\n",
    "bar_baby_region.legend(title='Family Status', bbox_to_anchor=(0.02, 1.0), loc='upper left', labels=['No Baby', 'Has Baby'], fontsize = 9)\n",
    "plt.title('Instacart Family Status by US Region', fontsize = 18, pad=20)\n",
    "plt.ylabel('Frequency (in millions)', fontsize = 12)\n",
    "plt.xlabel('Region',  fontsize = 12)\n",
    "plt.xticks(rotation=80, fontsize = 8)\n",
    "\n",
    "# Annotating the stacked bar chart\n",
    "\n",
    "# Get the total for each row\n",
    "total = crosstab_baby_region.sum(axis=1)\n",
    "\n",
    "# Calculate the percent for each row\n",
    "per = crosstab_baby_region.div(total, axis=0).mul(100).round(1)\n",
    "\n",
    "# Iterate through the containers\n",
    "for c in bar_baby_region.containers:\n",
    "    \n",
    "    # Get the current segment label (a string); corresponds to column / legend\n",
    "    label = c.get_label()\n",
    "    \n",
    "    # Create custom labels with the bar height and the percent from the per column\n",
    "    labels = [f'{row}%'if v.get_height() > 0 else '' for v, row in zip(c,per[(label)])]\n",
    "    \n",
    "    # Add the annotation\n",
    "    bar_baby_region.bar_label(c, labels=labels, label_type='center', fontsize = 8, rotation = 0,  fontweight= 'normal', padding = 2)  \n"
   ]
  },
  {
   "cell_type": "markdown",
   "id": "12a3d291-4a2f-4820-b6e9-7766d2680a74",
   "metadata": {},
   "source": [
    "The chart shows that less than 2% of Instacart families have babies"
   ]
  },
  {
   "cell_type": "code",
   "execution_count": 52,
   "id": "1acbb994-2d10-4a3b-8dd6-6068f3766b5c",
   "metadata": {},
   "outputs": [],
   "source": [
    "# Export\n",
    "bar_baby_region.figure.savefig(os.path.join(path, '04 Analysis', 'Visualizations','baby_fams_regional_barchart_03.16.png'))"
   ]
  },
  {
   "cell_type": "markdown",
   "id": "e871815b-a5d7-4126-b8c5-b63f96f4d6a6",
   "metadata": {
    "tags": []
   },
   "source": [
    "## Create customer profile by spending in each department"
   ]
  },
  {
   "cell_type": "markdown",
   "id": "be01682b-2095-426e-866a-c54b87e3eca3",
   "metadata": {},
   "source": [
    "Alcohol drinkers"
   ]
  },
  {
   "cell_type": "code",
   "execution_count": 53,
   "id": "8b4a7e6e-3f75-4df5-92f4-b0717cbcd5f5",
   "metadata": {
    "tags": []
   },
   "outputs": [],
   "source": [
    "# Create a profile for customers that drink alcohol\n",
    "df_high_act_cust.loc[df_high_act_cust['department_id'] ==5, 'profile'] = 'Alcohol Drinkers'"
   ]
  },
  {
   "cell_type": "markdown",
   "id": "ecd00b16-ada8-4953-a96a-04775a036607",
   "metadata": {},
   "source": [
    "Meat eaters"
   ]
  },
  {
   "cell_type": "code",
   "execution_count": 54,
   "id": "26bcea97-54e9-492f-a795-1b68e29995a2",
   "metadata": {},
   "outputs": [],
   "source": [
    "# Create a profile for customers that eat meat \n",
    "df_high_act_cust.loc[df_high_act_cust['department_id'] ==11, 'profile'] = 'Meat Eaters'"
   ]
  },
  {
   "cell_type": "markdown",
   "id": "7e2cbb6d-93b2-4ae4-b4cf-6719ce5f6520",
   "metadata": {},
   "source": [
    "Snackers"
   ]
  },
  {
   "cell_type": "code",
   "execution_count": 55,
   "id": "7830055c-7836-46fb-9218-b948b855366b",
   "metadata": {},
   "outputs": [],
   "source": [
    "# Create a profile for customers that buy snacks\n",
    "df_high_act_cust.loc[df_high_act_cust['department_id'] ==19, 'profile'] = 'Snackers'"
   ]
  },
  {
   "cell_type": "markdown",
   "id": "a6752917-5879-49d6-8f93-69157a7c625c",
   "metadata": {
    "tags": []
   },
   "source": [
    "Has babies"
   ]
  },
  {
   "cell_type": "code",
   "execution_count": 56,
   "id": "eda7010a-f877-4480-8edb-35c5f2bac8ca",
   "metadata": {},
   "outputs": [],
   "source": [
    "# Create a profile for customers with babies\n",
    "df_high_act_cust.loc[(df_high_act_cust['number_dependants'] > 0) & (df_high_act_cust['department_id'] == 18), 'profile'] = 'Has Babies'"
   ]
  },
  {
   "cell_type": "markdown",
   "id": "86d14494-57dd-4af4-8043-27aa4a5644d0",
   "metadata": {},
   "source": [
    "Income of famlies"
   ]
  },
  {
   "cell_type": "code",
   "execution_count": 57,
   "id": "3a137e64-0e08-4ab6-941e-cc2d269b01a1",
   "metadata": {
    "tags": []
   },
   "outputs": [],
   "source": [
    "# Create a profile for high income families \n",
    "df_high_act_cust.loc[(df_high_act_cust['number_dependants'] > 1) & (df_high_act_cust['income'] > 128102), 'profile'] = 'High-Income Family'"
   ]
  },
  {
   "cell_type": "code",
   "execution_count": 58,
   "id": "b9be2440-cabd-49ef-bc9d-4860cba72fc0",
   "metadata": {},
   "outputs": [],
   "source": [
    "# Create a profile for average income families\n",
    "df_high_act_cust.loc[(df_high_act_cust['number_dependants'] > 1) & (df_high_act_cust['income'] >67292) & (df_high_act_cust['income'] < 128102), 'profile'] = 'Average-Income Family'"
   ]
  },
  {
   "cell_type": "code",
   "execution_count": 59,
   "id": "92532094-4360-4b52-a8d0-7532703ebf67",
   "metadata": {},
   "outputs": [],
   "source": [
    "# Create a profile for low income families\n",
    "df_high_act_cust.loc[(df_high_act_cust['number_dependants'] > 1) & (df_high_act_cust['income'] < 67292), 'profile'] = 'Low-Income Family'"
   ]
  },
  {
   "cell_type": "code",
   "execution_count": 60,
   "id": "3982037a-d016-4493-ac8d-e860d9451c50",
   "metadata": {},
   "outputs": [],
   "source": [
    "# Create a profile for high income single adults without children\n",
    "df_high_act_cust.loc[(df_high_act_cust['marital_status'] == 'single') & (df_high_act_cust['number_dependants'] == 0) & (df_high_act_cust['income'] > 128102) , 'profile'] = 'Rich Single Adult'"
   ]
  },
  {
   "cell_type": "markdown",
   "id": "2b30759b-d18d-40ae-bbcc-808619a55147",
   "metadata": {},
   "source": [
    "Income of Retired"
   ]
  },
  {
   "cell_type": "code",
   "execution_count": 61,
   "id": "f4b44671-db36-4d85-b54c-d971161661f3",
   "metadata": {},
   "outputs": [],
   "source": [
    "# Create a profile for rich retired \n",
    "df_high_act_cust.loc[(df_high_act_cust['income'] > 128102) & (df_high_act_cust['age'] > 65),'profile'] ='Rich Retired'"
   ]
  },
  {
   "cell_type": "code",
   "execution_count": 62,
   "id": "3ee08f46-5c6c-4e4c-926f-0603a690bd43",
   "metadata": {},
   "outputs": [],
   "source": [
    "# Create a profile for average retired \n",
    "df_high_act_cust.loc[(df_high_act_cust['income'] > 67292) & (df_high_act_cust['income'] < 128102) & (df_high_act_cust['age'] < 65), 'profile'] = 'Average Retired'"
   ]
  },
  {
   "cell_type": "code",
   "execution_count": 63,
   "id": "26728ab5-973a-48df-afff-cd451ddcb388",
   "metadata": {
    "tags": []
   },
   "outputs": [],
   "source": [
    "# Create a profile for poor retired\n",
    "df_high_act_cust.loc[(df_high_act_cust['income'] < 67292) & (df_high_act_cust['age'] > 65),'profile'] ='Poor Retired'"
   ]
  },
  {
   "cell_type": "markdown",
   "id": "07e2c8c2-f0bd-4dea-92c0-f60bf7cb8b07",
   "metadata": {},
   "source": [
    "Pet Owners"
   ]
  },
  {
   "cell_type": "code",
   "execution_count": 64,
   "id": "6f575a49-a782-4881-83bd-f15c33dfd120",
   "metadata": {},
   "outputs": [],
   "source": [
    "# Create a profile for pet owners\n",
    "df_high_act_cust.loc[df_high_act_cust['department_id'] ==8, 'profile'] = 'Pet Owners'"
   ]
  },
  {
   "cell_type": "code",
   "execution_count": 65,
   "id": "c2743d5e-a1c2-4aba-88af-4fae59c7e67a",
   "metadata": {},
   "outputs": [],
   "source": [
    "# Fill NaN as \"Other\"\n",
    "df_high_act_cust['profile'] = df_high_act_cust['profile'].fillna('Other')"
   ]
  },
  {
   "cell_type": "code",
   "execution_count": 66,
   "id": "7e4b2823-ff16-495f-aaea-3cd14ea2b73f",
   "metadata": {},
   "outputs": [
    {
     "data": {
      "text/plain": [
       "Average Retired          11443704\n",
       "Other                     5961766\n",
       "Low-Income Family         3378392\n",
       "Rich Retired              2946712\n",
       "High-Income Family        2368980\n",
       "Average-Income Family     2011746\n",
       "Poor Retired               993651\n",
       "Rich Single Adult          929337\n",
       "Snackers                   664874\n",
       "Meat Eaters                 93384\n",
       "Pet Owners                  93060\n",
       "Has Babies                  47151\n",
       "Alcohol Drinkers            31807\n",
       "Name: profile, dtype: int64"
      ]
     },
     "execution_count": 66,
     "metadata": {},
     "output_type": "execute_result"
    }
   ],
   "source": [
    "df_high_act_cust['profile'].value_counts(dropna = False)"
   ]
  },
  {
   "cell_type": "code",
   "execution_count": 67,
   "id": "3bdab097-4959-4d59-ad32-2e1c79676e8a",
   "metadata": {},
   "outputs": [],
   "source": [
    "bar_new_profile = pd.DataFrame({'Instacart Customers in Millions':[1,2,3,4,5], 'Customer Profiles':[10,5,2,4,5]})"
   ]
  },
  {
   "cell_type": "code",
   "execution_count": 68,
   "id": "ef61a090-c92c-43f2-8da7-18f452071aad",
   "metadata": {},
   "outputs": [
    {
     "data": {
      "text/plain": [
       "Text(0.5, 0, 'Customer Profiles')"
      ]
     },
     "execution_count": 68,
     "metadata": {},
     "output_type": "execute_result"
    },
    {
     "data": {
      "image/png": "[encoded data removed]",
      "text/plain": [
       "<Figure size 1400x900 with 1 Axes>"
      ]
     },
     "metadata": {},
     "output_type": "display_data"
    }
   ],
   "source": [
    "# Creating a barchart with the new profiles\n",
    "bar_new_profile = df_high_act_cust['profile'].value_counts().plot.bar(rot=30, figsize = (14,9), color = 'lightpink')\n",
    "plt.ylabel ('Instacart Customers (in Milions)')\n",
    "plt.xlabel ('Customer Profiles')"
   ]
  },
  {
   "cell_type": "code",
   "execution_count": 69,
   "id": "6b194b25-b19b-463e-a98f-ba065dda129e",
   "metadata": {},
   "outputs": [],
   "source": [
    "# Export the bar chart\n",
    "bar_new_profile.figure.savefig(os.path.join(path, '04 Analysis', 'Visualizations','customer_profiles_barchart_03.16.png'))"
   ]
  },
  {
   "cell_type": "markdown",
   "id": "37306f19-9818-4f89-89d9-89e04fbf4ecc",
   "metadata": {
    "tags": []
   },
   "source": [
    "Pet Owner Customers"
   ]
  },
  {
   "cell_type": "code",
   "execution_count": 70,
   "id": "f033319b-7c85-4ec9-a5ee-790986b410ff",
   "metadata": {},
   "outputs": [],
   "source": [
    "# Creating pet_owner column\n",
    "\n",
    "df_high_act_cust.loc[df_high_act_cust['department'] == 'pets', 'pet_owner'] = 'Yes'\n",
    "df_high_act_cust.loc[df_high_act_cust['department'] != 'pets', 'pet_owner'] = 'No'"
   ]
  },
  {
   "cell_type": "code",
   "execution_count": 71,
   "id": "880595a2-c560-4891-b949-bcae43f34239",
   "metadata": {},
   "outputs": [
    {
     "data": {
      "text/plain": [
       "No     30871504\n",
       "Yes       93060\n",
       "Name: pet_owner, dtype: int64"
      ]
     },
     "execution_count": 71,
     "metadata": {},
     "output_type": "execute_result"
    }
   ],
   "source": [
    "df_high_act_cust['pet_owner'].value_counts(dropna= False)"
   ]
  },
  {
   "cell_type": "markdown",
   "id": "e174d956-c6c9-4cd0-bf33-4e5e69a5e85c",
   "metadata": {},
   "source": [
    "Vegetarians"
   ]
  },
  {
   "cell_type": "code",
   "execution_count": 72,
   "id": "629fed97-5ec4-4031-b39d-60f9cfbde57c",
   "metadata": {},
   "outputs": [],
   "source": [
    "# Create list to assign 'vegetarian' column's values. If a customer never purchased 'meat seafood' or deli, then we assume them a vegetarian.\n",
    "define_veg = []\n",
    "for value in df_high_act_cust['department_id']:\n",
    "    # 12 means 'meat seafood', 20 is the department_id of 'deli'\n",
    "    if value not in (12,20):\n",
    "        define_veg.append('Yes')\n",
    "    else:\n",
    "        define_veg.append('No')"
   ]
  },
  {
   "cell_type": "code",
   "execution_count": 73,
   "id": "bf1e2ab1-fcc2-46d0-a8df-c06efb56f414",
   "metadata": {},
   "outputs": [
    {
     "data": {
      "text/plain": [
       "['Yes',\n",
       " 'Yes',\n",
       " 'Yes',\n",
       " 'Yes',\n",
       " 'Yes',\n",
       " 'Yes',\n",
       " 'Yes',\n",
       " 'Yes',\n",
       " 'Yes',\n",
       " 'Yes',\n",
       " 'Yes',\n",
       " 'Yes',\n",
       " 'Yes',\n",
       " 'Yes',\n",
       " 'Yes',\n",
       " 'Yes',\n",
       " 'Yes',\n",
       " 'Yes',\n",
       " 'Yes',\n",
       " 'Yes',\n",
       " 'Yes',\n",
       " 'Yes',\n",
       " 'Yes',\n",
       " 'Yes',\n",
       " 'Yes',\n",
       " 'Yes',\n",
       " 'Yes',\n",
       " 'Yes',\n",
       " 'Yes',\n",
       " 'Yes',\n",
       " 'Yes',\n",
       " 'Yes',\n",
       " 'Yes',\n",
       " 'Yes',\n",
       " 'Yes',\n",
       " 'Yes',\n",
       " 'Yes',\n",
       " 'Yes',\n",
       " 'Yes',\n",
       " 'Yes',\n",
       " 'Yes',\n",
       " 'Yes',\n",
       " 'Yes',\n",
       " 'Yes',\n",
       " 'Yes',\n",
       " 'Yes',\n",
       " 'Yes',\n",
       " 'Yes',\n",
       " 'Yes',\n",
       " 'Yes',\n",
       " 'Yes',\n",
       " 'Yes',\n",
       " 'Yes',\n",
       " 'Yes',\n",
       " 'Yes',\n",
       " 'Yes',\n",
       " 'Yes',\n",
       " 'Yes',\n",
       " 'Yes',\n",
       " 'Yes',\n",
       " 'Yes',\n",
       " 'Yes',\n",
       " 'Yes',\n",
       " 'Yes',\n",
       " 'Yes',\n",
       " 'Yes',\n",
       " 'Yes',\n",
       " 'Yes',\n",
       " 'Yes',\n",
       " 'Yes',\n",
       " 'Yes',\n",
       " 'Yes',\n",
       " 'Yes',\n",
       " 'Yes',\n",
       " 'Yes',\n",
       " 'Yes',\n",
       " 'Yes',\n",
       " 'Yes',\n",
       " 'Yes',\n",
       " 'Yes',\n",
       " 'Yes',\n",
       " 'Yes',\n",
       " 'Yes',\n",
       " 'Yes',\n",
       " 'Yes',\n",
       " 'Yes',\n",
       " 'Yes',\n",
       " 'Yes',\n",
       " 'Yes',\n",
       " 'Yes',\n",
       " 'Yes',\n",
       " 'Yes',\n",
       " 'Yes',\n",
       " 'Yes',\n",
       " 'Yes',\n",
       " 'Yes',\n",
       " 'Yes',\n",
       " 'Yes',\n",
       " 'Yes',\n",
       " 'Yes',\n",
       " 'Yes',\n",
       " 'Yes',\n",
       " 'Yes',\n",
       " 'Yes',\n",
       " 'Yes',\n",
       " 'Yes',\n",
       " 'Yes',\n",
       " 'Yes',\n",
       " 'Yes',\n",
       " 'Yes',\n",
       " 'Yes',\n",
       " 'Yes',\n",
       " 'Yes',\n",
       " 'Yes',\n",
       " 'Yes',\n",
       " 'Yes',\n",
       " 'Yes',\n",
       " 'Yes',\n",
       " 'Yes',\n",
       " 'Yes',\n",
       " 'Yes',\n",
       " 'Yes',\n",
       " 'Yes',\n",
       " 'Yes',\n",
       " 'Yes',\n",
       " 'Yes',\n",
       " 'Yes',\n",
       " 'Yes',\n",
       " 'Yes',\n",
       " 'Yes',\n",
       " 'Yes',\n",
       " 'Yes',\n",
       " 'Yes',\n",
       " 'Yes',\n",
       " 'Yes',\n",
       " 'Yes',\n",
       " 'Yes',\n",
       " 'Yes',\n",
       " 'Yes',\n",
       " 'Yes',\n",
       " 'Yes',\n",
       " 'Yes',\n",
       " 'Yes',\n",
       " 'Yes',\n",
       " 'Yes',\n",
       " 'Yes',\n",
       " 'Yes',\n",
       " 'Yes',\n",
       " 'Yes',\n",
       " 'Yes',\n",
       " 'Yes',\n",
       " 'Yes',\n",
       " 'Yes',\n",
       " 'Yes',\n",
       " 'Yes',\n",
       " 'Yes',\n",
       " 'Yes',\n",
       " 'Yes',\n",
       " 'Yes',\n",
       " 'Yes',\n",
       " 'Yes',\n",
       " 'Yes',\n",
       " 'Yes',\n",
       " 'Yes',\n",
       " 'Yes',\n",
       " 'Yes',\n",
       " 'Yes',\n",
       " 'Yes',\n",
       " 'Yes',\n",
       " 'Yes',\n",
       " 'Yes',\n",
       " 'Yes',\n",
       " 'Yes',\n",
       " 'Yes',\n",
       " 'Yes',\n",
       " 'Yes',\n",
       " 'Yes',\n",
       " 'Yes',\n",
       " 'Yes',\n",
       " 'Yes',\n",
       " 'Yes',\n",
       " 'Yes',\n",
       " 'Yes',\n",
       " 'Yes',\n",
       " 'Yes',\n",
       " 'Yes',\n",
       " 'Yes',\n",
       " 'Yes',\n",
       " 'Yes',\n",
       " 'Yes',\n",
       " 'Yes',\n",
       " 'Yes',\n",
       " 'Yes',\n",
       " 'Yes',\n",
       " 'Yes',\n",
       " 'Yes',\n",
       " 'Yes',\n",
       " 'Yes',\n",
       " 'Yes',\n",
       " 'Yes',\n",
       " 'Yes',\n",
       " 'Yes',\n",
       " 'Yes',\n",
       " 'Yes',\n",
       " 'Yes',\n",
       " 'No',\n",
       " 'No',\n",
       " 'No',\n",
       " 'Yes',\n",
       " 'Yes',\n",
       " 'Yes',\n",
       " 'Yes',\n",
       " 'Yes',\n",
       " 'Yes',\n",
       " 'Yes',\n",
       " 'Yes',\n",
       " 'Yes',\n",
       " 'Yes',\n",
       " 'Yes',\n",
       " 'Yes',\n",
       " 'Yes',\n",
       " 'Yes',\n",
       " 'Yes',\n",
       " 'Yes',\n",
       " 'Yes',\n",
       " 'Yes',\n",
       " 'Yes',\n",
       " 'Yes',\n",
       " 'Yes',\n",
       " 'Yes',\n",
       " 'Yes',\n",
       " 'No',\n",
       " 'Yes',\n",
       " 'Yes',\n",
       " 'Yes',\n",
       " 'Yes',\n",
       " 'Yes',\n",
       " 'Yes',\n",
       " 'Yes',\n",
       " 'Yes',\n",
       " 'Yes',\n",
       " 'Yes',\n",
       " 'Yes',\n",
       " 'Yes',\n",
       " 'No',\n",
       " 'Yes',\n",
       " 'Yes',\n",
       " 'Yes',\n",
       " 'Yes',\n",
       " 'Yes',\n",
       " 'Yes',\n",
       " 'Yes',\n",
       " 'Yes',\n",
       " 'Yes',\n",
       " 'Yes',\n",
       " 'Yes',\n",
       " 'Yes',\n",
       " 'Yes',\n",
       " 'Yes',\n",
       " 'Yes',\n",
       " 'Yes',\n",
       " 'Yes',\n",
       " 'Yes',\n",
       " 'Yes',\n",
       " 'Yes',\n",
       " 'Yes',\n",
       " 'Yes',\n",
       " 'Yes',\n",
       " 'Yes',\n",
       " 'Yes',\n",
       " 'Yes',\n",
       " 'Yes',\n",
       " 'Yes',\n",
       " 'Yes',\n",
       " 'Yes',\n",
       " 'No',\n",
       " 'Yes',\n",
       " 'Yes',\n",
       " 'No',\n",
       " 'Yes',\n",
       " 'Yes',\n",
       " 'Yes',\n",
       " 'Yes',\n",
       " 'Yes',\n",
       " 'Yes',\n",
       " 'Yes',\n",
       " 'Yes',\n",
       " 'Yes',\n",
       " 'Yes',\n",
       " 'Yes',\n",
       " 'Yes',\n",
       " 'Yes',\n",
       " 'Yes',\n",
       " 'Yes',\n",
       " 'Yes',\n",
       " 'Yes',\n",
       " 'Yes',\n",
       " 'Yes',\n",
       " 'Yes',\n",
       " 'Yes',\n",
       " 'Yes',\n",
       " 'Yes',\n",
       " 'Yes',\n",
       " 'Yes',\n",
       " 'Yes',\n",
       " 'Yes',\n",
       " 'No',\n",
       " 'Yes',\n",
       " 'No',\n",
       " 'No',\n",
       " 'Yes',\n",
       " 'Yes',\n",
       " 'Yes',\n",
       " 'Yes',\n",
       " 'Yes',\n",
       " 'Yes',\n",
       " 'Yes',\n",
       " 'Yes',\n",
       " 'No',\n",
       " 'Yes',\n",
       " 'Yes',\n",
       " 'Yes',\n",
       " 'Yes',\n",
       " 'Yes',\n",
       " 'Yes',\n",
       " 'Yes',\n",
       " 'Yes',\n",
       " 'Yes',\n",
       " 'Yes',\n",
       " 'Yes',\n",
       " 'Yes',\n",
       " 'Yes',\n",
       " 'Yes',\n",
       " 'Yes',\n",
       " 'Yes',\n",
       " 'Yes',\n",
       " 'Yes',\n",
       " 'Yes',\n",
       " 'Yes',\n",
       " 'Yes',\n",
       " 'Yes',\n",
       " 'Yes',\n",
       " 'Yes',\n",
       " 'Yes',\n",
       " 'Yes',\n",
       " 'Yes',\n",
       " 'Yes',\n",
       " 'Yes',\n",
       " 'Yes',\n",
       " 'Yes',\n",
       " 'Yes',\n",
       " 'Yes',\n",
       " 'Yes',\n",
       " 'Yes',\n",
       " 'Yes',\n",
       " 'Yes',\n",
       " 'Yes',\n",
       " 'Yes',\n",
       " 'Yes',\n",
       " 'Yes',\n",
       " 'Yes',\n",
       " 'Yes',\n",
       " 'Yes',\n",
       " 'Yes',\n",
       " 'Yes',\n",
       " 'Yes',\n",
       " 'Yes',\n",
       " 'Yes',\n",
       " 'Yes',\n",
       " 'Yes',\n",
       " 'Yes',\n",
       " 'Yes',\n",
       " 'Yes',\n",
       " 'Yes',\n",
       " 'Yes',\n",
       " 'Yes',\n",
       " 'Yes',\n",
       " 'Yes',\n",
       " 'Yes',\n",
       " 'Yes',\n",
       " 'Yes',\n",
       " 'Yes',\n",
       " 'Yes',\n",
       " 'Yes',\n",
       " 'Yes',\n",
       " 'Yes',\n",
       " 'Yes',\n",
       " 'Yes',\n",
       " 'Yes',\n",
       " 'Yes',\n",
       " 'Yes',\n",
       " 'Yes',\n",
       " 'Yes',\n",
       " 'Yes',\n",
       " 'Yes',\n",
       " 'Yes',\n",
       " 'Yes',\n",
       " 'Yes',\n",
       " 'Yes',\n",
       " 'Yes',\n",
       " 'Yes',\n",
       " 'Yes',\n",
       " 'Yes',\n",
       " 'Yes',\n",
       " 'Yes',\n",
       " 'Yes',\n",
       " 'Yes',\n",
       " 'Yes',\n",
       " 'Yes',\n",
       " 'Yes',\n",
       " 'Yes',\n",
       " 'Yes',\n",
       " 'Yes',\n",
       " 'Yes',\n",
       " 'Yes',\n",
       " 'Yes',\n",
       " 'Yes',\n",
       " 'Yes',\n",
       " 'Yes',\n",
       " 'Yes',\n",
       " 'Yes',\n",
       " 'Yes',\n",
       " 'Yes',\n",
       " 'Yes',\n",
       " 'Yes',\n",
       " 'Yes',\n",
       " 'Yes',\n",
       " 'Yes',\n",
       " 'Yes',\n",
       " 'Yes',\n",
       " 'Yes',\n",
       " 'Yes',\n",
       " 'Yes',\n",
       " 'Yes',\n",
       " 'Yes',\n",
       " 'Yes',\n",
       " 'Yes',\n",
       " 'Yes',\n",
       " 'Yes',\n",
       " 'Yes',\n",
       " 'Yes',\n",
       " 'Yes',\n",
       " 'Yes',\n",
       " 'Yes',\n",
       " 'Yes',\n",
       " 'Yes',\n",
       " 'Yes',\n",
       " 'Yes',\n",
       " 'Yes',\n",
       " 'Yes',\n",
       " 'Yes',\n",
       " 'Yes',\n",
       " 'Yes',\n",
       " 'Yes',\n",
       " 'Yes',\n",
       " 'Yes',\n",
       " 'Yes',\n",
       " 'Yes',\n",
       " 'Yes',\n",
       " 'Yes',\n",
       " 'Yes',\n",
       " 'Yes',\n",
       " 'Yes',\n",
       " 'Yes',\n",
       " 'Yes',\n",
       " 'Yes',\n",
       " 'Yes',\n",
       " 'Yes',\n",
       " 'Yes',\n",
       " 'Yes',\n",
       " 'Yes',\n",
       " 'Yes',\n",
       " 'Yes',\n",
       " 'Yes',\n",
       " 'Yes',\n",
       " 'Yes',\n",
       " 'Yes',\n",
       " 'Yes',\n",
       " 'Yes',\n",
       " 'Yes',\n",
       " 'Yes',\n",
       " 'Yes',\n",
       " 'Yes',\n",
       " 'Yes',\n",
       " 'Yes',\n",
       " 'Yes',\n",
       " 'Yes',\n",
       " 'Yes',\n",
       " 'Yes',\n",
       " 'Yes',\n",
       " 'Yes',\n",
       " 'Yes',\n",
       " 'Yes',\n",
       " 'Yes',\n",
       " 'Yes',\n",
       " 'Yes',\n",
       " 'Yes',\n",
       " 'Yes',\n",
       " 'Yes',\n",
       " 'Yes',\n",
       " 'Yes',\n",
       " 'Yes',\n",
       " 'Yes',\n",
       " 'Yes',\n",
       " 'Yes',\n",
       " 'Yes',\n",
       " 'Yes',\n",
       " 'Yes',\n",
       " 'Yes',\n",
       " 'Yes',\n",
       " 'Yes',\n",
       " 'Yes',\n",
       " 'Yes',\n",
       " 'Yes',\n",
       " 'Yes',\n",
       " 'Yes',\n",
       " 'Yes',\n",
       " 'Yes',\n",
       " 'Yes',\n",
       " 'Yes',\n",
       " 'Yes',\n",
       " 'Yes',\n",
       " 'Yes',\n",
       " 'Yes',\n",
       " 'Yes',\n",
       " 'Yes',\n",
       " 'Yes',\n",
       " 'Yes',\n",
       " 'Yes',\n",
       " 'Yes',\n",
       " 'Yes',\n",
       " 'Yes',\n",
       " 'Yes',\n",
       " 'Yes',\n",
       " 'Yes',\n",
       " 'No',\n",
       " 'Yes',\n",
       " 'Yes',\n",
       " 'Yes',\n",
       " 'Yes',\n",
       " 'Yes',\n",
       " 'Yes',\n",
       " 'Yes',\n",
       " 'Yes',\n",
       " 'Yes',\n",
       " 'Yes',\n",
       " 'Yes',\n",
       " 'Yes',\n",
       " 'Yes',\n",
       " 'Yes',\n",
       " 'Yes',\n",
       " 'Yes',\n",
       " 'Yes',\n",
       " 'Yes',\n",
       " 'Yes',\n",
       " 'Yes',\n",
       " 'Yes',\n",
       " 'Yes',\n",
       " 'Yes',\n",
       " 'Yes',\n",
       " 'Yes',\n",
       " 'Yes',\n",
       " 'Yes',\n",
       " 'Yes',\n",
       " 'Yes',\n",
       " 'Yes',\n",
       " 'Yes',\n",
       " 'Yes',\n",
       " 'Yes',\n",
       " 'Yes',\n",
       " 'Yes',\n",
       " 'Yes',\n",
       " 'Yes',\n",
       " 'Yes',\n",
       " 'Yes',\n",
       " 'Yes',\n",
       " 'Yes',\n",
       " 'Yes',\n",
       " 'Yes',\n",
       " 'Yes',\n",
       " 'Yes',\n",
       " 'Yes',\n",
       " 'Yes',\n",
       " 'Yes',\n",
       " 'Yes',\n",
       " 'Yes',\n",
       " 'Yes',\n",
       " 'No',\n",
       " 'Yes',\n",
       " 'Yes',\n",
       " 'Yes',\n",
       " 'Yes',\n",
       " 'Yes',\n",
       " 'Yes',\n",
       " 'Yes',\n",
       " 'Yes',\n",
       " 'Yes',\n",
       " 'Yes',\n",
       " 'Yes',\n",
       " 'Yes',\n",
       " 'Yes',\n",
       " 'Yes',\n",
       " 'Yes',\n",
       " 'Yes',\n",
       " 'Yes',\n",
       " 'Yes',\n",
       " 'Yes',\n",
       " 'No',\n",
       " 'No',\n",
       " 'No',\n",
       " 'No',\n",
       " 'No',\n",
       " 'No',\n",
       " 'No',\n",
       " 'No',\n",
       " 'Yes',\n",
       " 'Yes',\n",
       " 'Yes',\n",
       " 'Yes',\n",
       " 'Yes',\n",
       " 'Yes',\n",
       " 'Yes',\n",
       " 'No',\n",
       " 'No',\n",
       " 'No',\n",
       " 'Yes',\n",
       " 'Yes',\n",
       " 'Yes',\n",
       " 'Yes',\n",
       " 'Yes',\n",
       " 'Yes',\n",
       " 'Yes',\n",
       " 'Yes',\n",
       " 'Yes',\n",
       " 'Yes',\n",
       " 'Yes',\n",
       " 'Yes',\n",
       " 'Yes',\n",
       " 'Yes',\n",
       " 'Yes',\n",
       " 'No',\n",
       " 'Yes',\n",
       " 'Yes',\n",
       " 'Yes',\n",
       " 'Yes',\n",
       " 'Yes',\n",
       " 'Yes',\n",
       " 'Yes',\n",
       " 'Yes',\n",
       " 'Yes',\n",
       " 'Yes',\n",
       " 'Yes',\n",
       " 'Yes',\n",
       " 'Yes',\n",
       " 'Yes',\n",
       " 'Yes',\n",
       " 'Yes',\n",
       " 'Yes',\n",
       " 'Yes',\n",
       " 'Yes',\n",
       " 'Yes',\n",
       " 'Yes',\n",
       " 'Yes',\n",
       " 'Yes',\n",
       " 'Yes',\n",
       " 'Yes',\n",
       " 'Yes',\n",
       " 'Yes',\n",
       " 'Yes',\n",
       " 'Yes',\n",
       " 'Yes',\n",
       " 'Yes',\n",
       " 'Yes',\n",
       " 'Yes',\n",
       " 'Yes',\n",
       " 'Yes',\n",
       " 'Yes',\n",
       " 'Yes',\n",
       " 'Yes',\n",
       " 'Yes',\n",
       " 'Yes',\n",
       " 'Yes',\n",
       " 'Yes',\n",
       " 'Yes',\n",
       " 'Yes',\n",
       " 'Yes',\n",
       " 'Yes',\n",
       " 'Yes',\n",
       " 'Yes',\n",
       " 'Yes',\n",
       " 'Yes',\n",
       " 'Yes',\n",
       " 'Yes',\n",
       " 'Yes',\n",
       " 'Yes',\n",
       " 'Yes',\n",
       " 'Yes',\n",
       " 'Yes',\n",
       " 'Yes',\n",
       " 'Yes',\n",
       " 'Yes',\n",
       " 'Yes',\n",
       " 'Yes',\n",
       " 'Yes',\n",
       " 'Yes',\n",
       " 'Yes',\n",
       " 'Yes',\n",
       " 'Yes',\n",
       " 'Yes',\n",
       " 'Yes',\n",
       " 'Yes',\n",
       " 'Yes',\n",
       " 'Yes',\n",
       " 'Yes',\n",
       " 'Yes',\n",
       " 'Yes',\n",
       " 'Yes',\n",
       " 'Yes',\n",
       " 'Yes',\n",
       " 'Yes',\n",
       " 'Yes',\n",
       " 'Yes',\n",
       " 'Yes',\n",
       " 'Yes',\n",
       " 'Yes',\n",
       " 'Yes',\n",
       " 'Yes',\n",
       " 'Yes',\n",
       " 'Yes',\n",
       " 'Yes',\n",
       " 'No',\n",
       " 'Yes',\n",
       " 'Yes',\n",
       " 'Yes',\n",
       " 'Yes',\n",
       " 'No',\n",
       " 'No',\n",
       " 'No',\n",
       " 'Yes',\n",
       " 'Yes',\n",
       " 'Yes',\n",
       " 'Yes',\n",
       " 'Yes',\n",
       " 'Yes',\n",
       " 'Yes',\n",
       " 'Yes',\n",
       " 'Yes',\n",
       " 'Yes',\n",
       " 'Yes',\n",
       " 'Yes',\n",
       " 'Yes',\n",
       " 'Yes',\n",
       " 'Yes',\n",
       " 'Yes',\n",
       " 'No',\n",
       " 'No',\n",
       " 'No',\n",
       " 'No',\n",
       " 'No',\n",
       " 'No',\n",
       " 'Yes',\n",
       " 'Yes',\n",
       " 'Yes',\n",
       " 'Yes',\n",
       " 'Yes',\n",
       " 'Yes',\n",
       " 'Yes',\n",
       " 'Yes',\n",
       " 'Yes',\n",
       " 'Yes',\n",
       " 'Yes',\n",
       " 'Yes',\n",
       " 'Yes',\n",
       " 'Yes',\n",
       " 'Yes',\n",
       " 'Yes',\n",
       " 'Yes',\n",
       " 'No',\n",
       " 'No',\n",
       " 'No',\n",
       " 'No',\n",
       " 'No',\n",
       " 'No',\n",
       " 'No',\n",
       " 'Yes',\n",
       " 'Yes',\n",
       " 'Yes',\n",
       " 'Yes',\n",
       " 'Yes',\n",
       " 'Yes',\n",
       " 'Yes',\n",
       " 'Yes',\n",
       " 'Yes',\n",
       " 'Yes',\n",
       " 'Yes',\n",
       " 'Yes',\n",
       " 'Yes',\n",
       " 'Yes',\n",
       " 'Yes',\n",
       " 'Yes',\n",
       " 'Yes',\n",
       " 'Yes',\n",
       " 'Yes',\n",
       " 'Yes',\n",
       " 'No',\n",
       " 'Yes',\n",
       " 'Yes',\n",
       " 'No',\n",
       " 'Yes',\n",
       " 'Yes',\n",
       " 'Yes',\n",
       " 'Yes',\n",
       " 'Yes',\n",
       " 'Yes',\n",
       " 'Yes',\n",
       " 'Yes',\n",
       " 'Yes',\n",
       " 'No',\n",
       " 'No',\n",
       " 'No',\n",
       " 'Yes',\n",
       " 'Yes',\n",
       " 'Yes',\n",
       " 'Yes',\n",
       " 'Yes',\n",
       " 'Yes',\n",
       " 'Yes',\n",
       " 'Yes',\n",
       " 'Yes',\n",
       " 'Yes',\n",
       " 'Yes',\n",
       " 'Yes',\n",
       " 'Yes',\n",
       " 'Yes',\n",
       " 'Yes',\n",
       " 'Yes',\n",
       " 'Yes',\n",
       " 'Yes',\n",
       " 'Yes',\n",
       " 'Yes',\n",
       " 'Yes',\n",
       " 'Yes',\n",
       " 'Yes',\n",
       " 'Yes',\n",
       " 'Yes',\n",
       " 'Yes',\n",
       " 'Yes',\n",
       " 'Yes',\n",
       " 'Yes',\n",
       " 'Yes',\n",
       " 'Yes',\n",
       " 'Yes',\n",
       " 'Yes',\n",
       " 'Yes',\n",
       " 'Yes',\n",
       " 'Yes',\n",
       " 'Yes',\n",
       " 'Yes',\n",
       " 'Yes',\n",
       " 'Yes',\n",
       " 'Yes',\n",
       " 'Yes',\n",
       " 'Yes',\n",
       " 'Yes',\n",
       " 'Yes',\n",
       " 'Yes',\n",
       " 'No',\n",
       " 'No',\n",
       " 'No',\n",
       " 'Yes',\n",
       " 'Yes',\n",
       " 'Yes',\n",
       " 'Yes',\n",
       " 'Yes',\n",
       " 'Yes',\n",
       " 'Yes',\n",
       " 'Yes',\n",
       " 'Yes',\n",
       " 'Yes',\n",
       " 'Yes',\n",
       " 'Yes',\n",
       " 'Yes',\n",
       " 'Yes',\n",
       " 'Yes',\n",
       " 'Yes',\n",
       " 'Yes',\n",
       " 'Yes',\n",
       " 'Yes',\n",
       " 'Yes',\n",
       " 'Yes',\n",
       " 'Yes',\n",
       " 'Yes',\n",
       " 'Yes',\n",
       " 'Yes',\n",
       " 'Yes',\n",
       " 'Yes',\n",
       " 'Yes',\n",
       " 'Yes',\n",
       " 'Yes',\n",
       " 'Yes',\n",
       " 'Yes',\n",
       " 'Yes',\n",
       " 'Yes',\n",
       " 'Yes',\n",
       " 'Yes',\n",
       " 'Yes',\n",
       " 'Yes',\n",
       " 'Yes',\n",
       " 'Yes',\n",
       " 'Yes',\n",
       " 'Yes',\n",
       " 'Yes',\n",
       " 'Yes',\n",
       " 'Yes',\n",
       " 'Yes',\n",
       " 'Yes',\n",
       " 'Yes',\n",
       " 'Yes',\n",
       " 'Yes',\n",
       " 'Yes',\n",
       " 'Yes',\n",
       " 'Yes',\n",
       " 'Yes',\n",
       " 'Yes',\n",
       " 'Yes',\n",
       " 'Yes',\n",
       " 'Yes',\n",
       " 'Yes',\n",
       " 'Yes',\n",
       " 'Yes',\n",
       " 'Yes',\n",
       " 'Yes',\n",
       " 'Yes',\n",
       " 'Yes',\n",
       " 'Yes',\n",
       " 'Yes',\n",
       " 'Yes',\n",
       " 'Yes',\n",
       " 'Yes',\n",
       " 'Yes',\n",
       " 'Yes',\n",
       " 'Yes',\n",
       " 'Yes',\n",
       " 'Yes',\n",
       " 'Yes',\n",
       " 'Yes',\n",
       " 'Yes',\n",
       " 'Yes',\n",
       " 'Yes',\n",
       " 'Yes',\n",
       " 'Yes',\n",
       " 'Yes',\n",
       " 'Yes',\n",
       " 'Yes',\n",
       " 'Yes',\n",
       " 'Yes',\n",
       " 'Yes',\n",
       " 'Yes',\n",
       " 'Yes',\n",
       " 'Yes',\n",
       " 'Yes',\n",
       " 'Yes',\n",
       " 'Yes',\n",
       " 'Yes',\n",
       " 'Yes',\n",
       " 'Yes',\n",
       " 'Yes',\n",
       " 'Yes',\n",
       " 'Yes',\n",
       " 'Yes',\n",
       " 'Yes',\n",
       " 'Yes',\n",
       " 'Yes',\n",
       " 'Yes',\n",
       " 'Yes',\n",
       " 'No',\n",
       " 'Yes',\n",
       " 'Yes',\n",
       " 'No',\n",
       " 'Yes',\n",
       " 'Yes',\n",
       " 'Yes',\n",
       " 'Yes',\n",
       " 'Yes',\n",
       " 'Yes',\n",
       " 'Yes',\n",
       " 'Yes',\n",
       " 'Yes',\n",
       " 'Yes',\n",
       " 'Yes',\n",
       " 'Yes',\n",
       " 'Yes',\n",
       " 'Yes',\n",
       " 'Yes',\n",
       " 'Yes',\n",
       " 'Yes',\n",
       " 'Yes',\n",
       " 'Yes',\n",
       " 'Yes',\n",
       " 'Yes',\n",
       " ...]"
      ]
     },
     "execution_count": 73,
     "metadata": {},
     "output_type": "execute_result"
    }
   ],
   "source": [
    "# Check the result\n",
    "define_veg"
   ]
  },
  {
   "cell_type": "code",
   "execution_count": 74,
   "id": "cf8baba3-4c34-47ff-b6c6-2b92295a6f1a",
   "metadata": {},
   "outputs": [],
   "source": [
    "# Assigning 'define_veg' list values to 'vegetarian' column\n",
    "df_high_act_cust['vegetarian'] = define_veg"
   ]
  },
  {
   "cell_type": "code",
   "execution_count": 75,
   "id": "5b126a66-b4b5-4b9d-bd24-6aa7f09d7066",
   "metadata": {},
   "outputs": [
    {
     "data": {
      "text/plain": [
       "(30964564, 44)"
      ]
     },
     "execution_count": 75,
     "metadata": {},
     "output_type": "execute_result"
    }
   ],
   "source": [
    "df_high_act_cust.shape"
   ]
  },
  {
   "cell_type": "code",
   "execution_count": 76,
   "id": "8bf9784a-59fc-4ac2-9182-4288f861c2da",
   "metadata": {},
   "outputs": [
    {
     "data": {
      "text/plain": [
       "Yes    29285949\n",
       "No      1678615\n",
       "Name: vegetarian, dtype: int64"
      ]
     },
     "execution_count": 76,
     "metadata": {},
     "output_type": "execute_result"
    }
   ],
   "source": [
    "df_high_act_cust['vegetarian'].value_counts(dropna = False)"
   ]
  },
  {
   "cell_type": "code",
   "execution_count": 77,
   "id": "3e6b4d6c-155d-407a-bd58-392aef8d379b",
   "metadata": {},
   "outputs": [
    {
     "data": {
      "text/plain": [
       "Text(0.5, 1.0, 'Vegetarian & Non-Vegetarian Customers')"
      ]
     },
     "execution_count": 77,
     "metadata": {},
     "output_type": "execute_result"
    },
    {
     "data": {
      "image/png": "[encoded data removed]",
      "text/plain": [
       "<Figure size 640x480 with 1 Axes>"
      ]
     },
     "metadata": {},
     "output_type": "display_data"
    }
   ],
   "source": [
    "# Drawing a pie chart of Vegetarians\n",
    "veg_pie = df_high_act_cust['vegetarian'].value_counts().plot.pie(labels = ['Vegetarian','Non-Vegetarian'], autopct=('%1.f%%'), colors = ['Brown','gold'], label = '', explode = [0,0.2])\n",
    "veg_pie.legend(title = 'Vegetarian Customer Status: ', loc = 'lower right')\n",
    "plt.title( \"Vegetarian & Non-Vegetarian Customers\", fontsize= '18')"
   ]
  },
  {
   "cell_type": "code",
   "execution_count": 78,
   "id": "80628bb2-f58f-4ad6-9fde-a69735a79e22",
   "metadata": {},
   "outputs": [],
   "source": [
    "# Export Vegetarian pie chart \n",
    "veg_pie.figure.savefig(os.path.join(path, '04 Analysis', 'Visualizations', 'veg_pie_03.16.png'))"
   ]
  },
  {
   "cell_type": "markdown",
   "id": "f4306d1d-f6c9-4903-a5bd-7d9e15143823",
   "metadata": {},
   "source": [
    "# Visualization of crosstab_age_day\n",
    "bar_age_day = crosstab_age_hour.plot(kind = 'bar', rot = 0, color= ['gold', 'purple', 'blue'])\n",
    "bar_age_day.legend(title='Days', bbox_to_anchor=(1, 1.02), loc='upper left', labels=['Standard hours', 'Early bird', 'Night owl'])\n",
    "plt.title('Frequency of hour purchased during day', fontsize = 18, pad=20)\n",
    "plt.ylabel('Frequency (in millions)', fontsize = 12)\n",
    "plt.xlabel('Age Group',  fontsize = 18)"
   ]
  },
  {
   "cell_type": "code",
   "execution_count": 79,
   "id": "2ccf90f8-bcac-44dc-be8e-2b3a086f8e75",
   "metadata": {},
   "outputs": [
    {
     "name": "stdout",
     "output_type": "stream",
     "text": [
      "0                Night owl\n",
      "1                Night owl\n",
      "2           Stardard hours\n",
      "3                Night owl\n",
      "4           Stardard hours\n",
      "                 ...      \n",
      "32404850         Night owl\n",
      "32404851         Night owl\n",
      "32404852    Stardard hours\n",
      "32404853    Stardard hours\n",
      "32404854        Early bird\n",
      "Name: busiest_of_days_for_chart, Length: 30964564, dtype: object\n"
     ]
    }
   ],
   "source": [
    "print(df_high_act_cust['busiest_of_days_for_chart'])"
   ]
  },
  {
   "cell_type": "code",
   "execution_count": 80,
   "id": "03936966-9764-4006-80e4-9be0d35cb7be",
   "metadata": {
    "tags": []
   },
   "outputs": [
    {
     "data": {
      "text/plain": [
       "Text(0.5, 0, 'Time of Order Habits')"
      ]
     },
     "execution_count": 80,
     "metadata": {},
     "output_type": "execute_result"
    },
    {
     "data": {
      "image/png": "[encoded data removed]",
      "text/plain": [
       "<Figure size 640x480 with 1 Axes>"
      ]
     },
     "metadata": {},
     "output_type": "display_data"
    }
   ],
   "source": [
    "# Draw a bar chart of 'order_time_habit' column\n",
    "\n",
    "time_habit_bar = df_high_act_cust['busiest_of_days_for_chart'].value_counts().plot.bar( color = ['blue', 'gold', 'brown'])\n",
    "plt.title('Order Time Habits of Instacart Customers', fontsize = 18, pad=20)\n",
    "plt.ylabel('Frequency (in millions)', fontsize = 12)\n",
    "plt.xlabel('Time of Order Habits',  fontsize = 12)"
   ]
  },
  {
   "cell_type": "code",
   "execution_count": 81,
   "id": "fa947be3-3cb8-481b-879c-4fc2e9c1da7b",
   "metadata": {
    "tags": []
   },
   "outputs": [],
   "source": [
    "# Export the bar chart\n",
    "time_habit_bar.figure.savefig(os.path.join(path, '04 Analysis', 'Visualizations','customer_order_habits_barchart.03.16.png'))"
   ]
  },
  {
   "cell_type": "markdown",
   "id": "3bbe518b-e7b0-4b31-92c7-ead96b0391c2",
   "metadata": {},
   "source": [
    "## Aggregate the Max, Min & Mean Values"
   ]
  },
  {
   "cell_type": "code",
   "execution_count": 82,
   "id": "9334a347-cf20-4caa-bf9a-643a81e46551",
   "metadata": {},
   "outputs": [
    {
     "data": {
      "text/html": [
       "<div>\n",
       "<style scoped>\n",
       "    .dataframe tbody tr th:only-of-type {\n",
       "        vertical-align: middle;\n",
       "    }\n",
       "\n",
       "    .dataframe tbody tr th {\n",
       "        vertical-align: top;\n",
       "    }\n",
       "\n",
       "    .dataframe thead tr th {\n",
       "        text-align: left;\n",
       "    }\n",
       "\n",
       "    .dataframe thead tr:last-of-type th {\n",
       "        text-align: right;\n",
       "    }\n",
       "</style>\n",
       "<table border=\"1\" class=\"dataframe\">\n",
       "  <thead>\n",
       "    <tr>\n",
       "      <th></th>\n",
       "      <th colspan=\"3\" halign=\"left\">prices</th>\n",
       "      <th colspan=\"3\" halign=\"left\">days_since_prior_order</th>\n",
       "    </tr>\n",
       "    <tr>\n",
       "      <th></th>\n",
       "      <th>max</th>\n",
       "      <th>min</th>\n",
       "      <th>mean</th>\n",
       "      <th>mean</th>\n",
       "      <th>min</th>\n",
       "      <th>max</th>\n",
       "    </tr>\n",
       "    <tr>\n",
       "      <th>profile</th>\n",
       "      <th></th>\n",
       "      <th></th>\n",
       "      <th></th>\n",
       "      <th></th>\n",
       "      <th></th>\n",
       "      <th></th>\n",
       "    </tr>\n",
       "  </thead>\n",
       "  <tbody>\n",
       "    <tr>\n",
       "      <th>Alcohol Drinkers</th>\n",
       "      <td>15.0</td>\n",
       "      <td>1.0</td>\n",
       "      <td>8.032672</td>\n",
       "      <td>10.356580</td>\n",
       "      <td>0.0</td>\n",
       "      <td>30.0</td>\n",
       "    </tr>\n",
       "    <tr>\n",
       "      <th>Average Retired</th>\n",
       "      <td>25.0</td>\n",
       "      <td>1.0</td>\n",
       "      <td>7.955579</td>\n",
       "      <td>10.755851</td>\n",
       "      <td>0.0</td>\n",
       "      <td>30.0</td>\n",
       "    </tr>\n",
       "    <tr>\n",
       "      <th>Average-Income Family</th>\n",
       "      <td>25.0</td>\n",
       "      <td>1.0</td>\n",
       "      <td>7.946659</td>\n",
       "      <td>10.739723</td>\n",
       "      <td>0.0</td>\n",
       "      <td>30.0</td>\n",
       "    </tr>\n",
       "    <tr>\n",
       "      <th>Has Babies</th>\n",
       "      <td>15.0</td>\n",
       "      <td>1.0</td>\n",
       "      <td>7.633590</td>\n",
       "      <td>10.131648</td>\n",
       "      <td>0.0</td>\n",
       "      <td>30.0</td>\n",
       "    </tr>\n",
       "    <tr>\n",
       "      <th>High-Income Family</th>\n",
       "      <td>25.0</td>\n",
       "      <td>1.0</td>\n",
       "      <td>7.954102</td>\n",
       "      <td>10.810976</td>\n",
       "      <td>0.0</td>\n",
       "      <td>30.0</td>\n",
       "    </tr>\n",
       "    <tr>\n",
       "      <th>Low-Income Family</th>\n",
       "      <td>25.0</td>\n",
       "      <td>1.0</td>\n",
       "      <td>7.381677</td>\n",
       "      <td>10.927941</td>\n",
       "      <td>0.0</td>\n",
       "      <td>30.0</td>\n",
       "    </tr>\n",
       "    <tr>\n",
       "      <th>Meat Eaters</th>\n",
       "      <td>15.0</td>\n",
       "      <td>1.0</td>\n",
       "      <td>7.959153</td>\n",
       "      <td>11.404019</td>\n",
       "      <td>0.0</td>\n",
       "      <td>30.0</td>\n",
       "    </tr>\n",
       "    <tr>\n",
       "      <th>Other</th>\n",
       "      <td>25.0</td>\n",
       "      <td>1.0</td>\n",
       "      <td>8.052998</td>\n",
       "      <td>10.880050</td>\n",
       "      <td>0.0</td>\n",
       "      <td>30.0</td>\n",
       "    </tr>\n",
       "    <tr>\n",
       "      <th>Pet Owners</th>\n",
       "      <td>15.0</td>\n",
       "      <td>1.0</td>\n",
       "      <td>7.887489</td>\n",
       "      <td>11.593531</td>\n",
       "      <td>0.0</td>\n",
       "      <td>30.0</td>\n",
       "    </tr>\n",
       "    <tr>\n",
       "      <th>Poor Retired</th>\n",
       "      <td>25.0</td>\n",
       "      <td>1.0</td>\n",
       "      <td>6.704679</td>\n",
       "      <td>11.096586</td>\n",
       "      <td>0.0</td>\n",
       "      <td>30.0</td>\n",
       "    </tr>\n",
       "    <tr>\n",
       "      <th>Rich Retired</th>\n",
       "      <td>25.0</td>\n",
       "      <td>1.0</td>\n",
       "      <td>7.958458</td>\n",
       "      <td>10.718950</td>\n",
       "      <td>0.0</td>\n",
       "      <td>30.0</td>\n",
       "    </tr>\n",
       "    <tr>\n",
       "      <th>Rich Single Adult</th>\n",
       "      <td>25.0</td>\n",
       "      <td>1.0</td>\n",
       "      <td>7.932458</td>\n",
       "      <td>10.675896</td>\n",
       "      <td>0.0</td>\n",
       "      <td>30.0</td>\n",
       "    </tr>\n",
       "    <tr>\n",
       "      <th>Snackers</th>\n",
       "      <td>7.0</td>\n",
       "      <td>1.6</td>\n",
       "      <td>4.265089</td>\n",
       "      <td>10.781580</td>\n",
       "      <td>0.0</td>\n",
       "      <td>30.0</td>\n",
       "    </tr>\n",
       "  </tbody>\n",
       "</table>\n",
       "</div>"
      ],
      "text/plain": [
       "                      prices                days_since_prior_order           \n",
       "                         max  min      mean                   mean  min   max\n",
       "profile                                                                      \n",
       "Alcohol Drinkers        15.0  1.0  8.032672              10.356580  0.0  30.0\n",
       "Average Retired         25.0  1.0  7.955579              10.755851  0.0  30.0\n",
       "Average-Income Family   25.0  1.0  7.946659              10.739723  0.0  30.0\n",
       "Has Babies              15.0  1.0  7.633590              10.131648  0.0  30.0\n",
       "High-Income Family      25.0  1.0  7.954102              10.810976  0.0  30.0\n",
       "Low-Income Family       25.0  1.0  7.381677              10.927941  0.0  30.0\n",
       "Meat Eaters             15.0  1.0  7.959153              11.404019  0.0  30.0\n",
       "Other                   25.0  1.0  8.052998              10.880050  0.0  30.0\n",
       "Pet Owners              15.0  1.0  7.887489              11.593531  0.0  30.0\n",
       "Poor Retired            25.0  1.0  6.704679              11.096586  0.0  30.0\n",
       "Rich Retired            25.0  1.0  7.958458              10.718950  0.0  30.0\n",
       "Rich Single Adult       25.0  1.0  7.932458              10.675896  0.0  30.0\n",
       "Snackers                 7.0  1.6  4.265089              10.781580  0.0  30.0"
      ]
     },
     "execution_count": 82,
     "metadata": {},
     "output_type": "execute_result"
    }
   ],
   "source": [
    "# Comparing the Max, Min & Mean Values\n",
    "df_high_act_cust.groupby('profile').agg({'prices': ['max','min','mean'], 'days_since_prior_order':['mean', 'min','max']})"
   ]
  },
  {
   "cell_type": "markdown",
   "id": "f426b0b2-62e5-4d19-8b80-69b11d7a3b35",
   "metadata": {},
   "source": [
    "## Compare And identify customer profiles with regions and departments"
   ]
  },
  {
   "cell_type": "code",
   "execution_count": 83,
   "id": "68c0b3f3-2a21-4631-a0e2-c99cc82f8ee4",
   "metadata": {},
   "outputs": [],
   "source": [
    "# Comparing customer profiles & regions\n",
    "crosstab_profile_region = pd.crosstab(df_high_act_cust['profile'], df_high_act_cust['region'], dropna = False)"
   ]
  },
  {
   "cell_type": "code",
   "execution_count": 84,
   "id": "502041c9-1f1a-4c28-b315-e195b5a2c044",
   "metadata": {},
   "outputs": [
    {
     "data": {
      "text/html": [
       "<div>\n",
       "<style scoped>\n",
       "    .dataframe tbody tr th:only-of-type {\n",
       "        vertical-align: middle;\n",
       "    }\n",
       "\n",
       "    .dataframe tbody tr th {\n",
       "        vertical-align: top;\n",
       "    }\n",
       "\n",
       "    .dataframe thead th {\n",
       "        text-align: right;\n",
       "    }\n",
       "</style>\n",
       "<table border=\"1\" class=\"dataframe\">\n",
       "  <thead>\n",
       "    <tr style=\"text-align: right;\">\n",
       "      <th>region</th>\n",
       "      <th>Midwest</th>\n",
       "      <th>Northeast</th>\n",
       "      <th>South</th>\n",
       "      <th>West</th>\n",
       "    </tr>\n",
       "    <tr>\n",
       "      <th>profile</th>\n",
       "      <th></th>\n",
       "      <th></th>\n",
       "      <th></th>\n",
       "      <th></th>\n",
       "    </tr>\n",
       "  </thead>\n",
       "  <tbody>\n",
       "    <tr>\n",
       "      <th>Alcohol Drinkers</th>\n",
       "      <td>7491</td>\n",
       "      <td>5706</td>\n",
       "      <td>10691</td>\n",
       "      <td>7919</td>\n",
       "    </tr>\n",
       "    <tr>\n",
       "      <th>Average Retired</th>\n",
       "      <td>2678831</td>\n",
       "      <td>2001315</td>\n",
       "      <td>3833308</td>\n",
       "      <td>2930250</td>\n",
       "    </tr>\n",
       "    <tr>\n",
       "      <th>Average-Income Family</th>\n",
       "      <td>461452</td>\n",
       "      <td>360607</td>\n",
       "      <td>662387</td>\n",
       "      <td>527300</td>\n",
       "    </tr>\n",
       "    <tr>\n",
       "      <th>Has Babies</th>\n",
       "      <td>11877</td>\n",
       "      <td>8422</td>\n",
       "      <td>14914</td>\n",
       "      <td>11938</td>\n",
       "    </tr>\n",
       "    <tr>\n",
       "      <th>High-Income Family</th>\n",
       "      <td>569004</td>\n",
       "      <td>427743</td>\n",
       "      <td>771098</td>\n",
       "      <td>601135</td>\n",
       "    </tr>\n",
       "    <tr>\n",
       "      <th>Low-Income Family</th>\n",
       "      <td>789769</td>\n",
       "      <td>588581</td>\n",
       "      <td>1125831</td>\n",
       "      <td>874211</td>\n",
       "    </tr>\n",
       "    <tr>\n",
       "      <th>Meat Eaters</th>\n",
       "      <td>22422</td>\n",
       "      <td>16932</td>\n",
       "      <td>31331</td>\n",
       "      <td>22699</td>\n",
       "    </tr>\n",
       "    <tr>\n",
       "      <th>Other</th>\n",
       "      <td>1408054</td>\n",
       "      <td>1059765</td>\n",
       "      <td>1993645</td>\n",
       "      <td>1500302</td>\n",
       "    </tr>\n",
       "    <tr>\n",
       "      <th>Pet Owners</th>\n",
       "      <td>21358</td>\n",
       "      <td>17734</td>\n",
       "      <td>29909</td>\n",
       "      <td>24059</td>\n",
       "    </tr>\n",
       "    <tr>\n",
       "      <th>Poor Retired</th>\n",
       "      <td>222174</td>\n",
       "      <td>180499</td>\n",
       "      <td>331546</td>\n",
       "      <td>259432</td>\n",
       "    </tr>\n",
       "    <tr>\n",
       "      <th>Rich Retired</th>\n",
       "      <td>685839</td>\n",
       "      <td>532395</td>\n",
       "      <td>970826</td>\n",
       "      <td>757652</td>\n",
       "    </tr>\n",
       "    <tr>\n",
       "      <th>Rich Single Adult</th>\n",
       "      <td>228176</td>\n",
       "      <td>147124</td>\n",
       "      <td>312979</td>\n",
       "      <td>241058</td>\n",
       "    </tr>\n",
       "    <tr>\n",
       "      <th>Snackers</th>\n",
       "      <td>155066</td>\n",
       "      <td>117862</td>\n",
       "      <td>222674</td>\n",
       "      <td>169272</td>\n",
       "    </tr>\n",
       "  </tbody>\n",
       "</table>\n",
       "</div>"
      ],
      "text/plain": [
       "region                 Midwest  Northeast    South     West\n",
       "profile                                                    \n",
       "Alcohol Drinkers          7491       5706    10691     7919\n",
       "Average Retired        2678831    2001315  3833308  2930250\n",
       "Average-Income Family   461452     360607   662387   527300\n",
       "Has Babies               11877       8422    14914    11938\n",
       "High-Income Family      569004     427743   771098   601135\n",
       "Low-Income Family       789769     588581  1125831   874211\n",
       "Meat Eaters              22422      16932    31331    22699\n",
       "Other                  1408054    1059765  1993645  1500302\n",
       "Pet Owners               21358      17734    29909    24059\n",
       "Poor Retired            222174     180499   331546   259432\n",
       "Rich Retired            685839     532395   970826   757652\n",
       "Rich Single Adult       228176     147124   312979   241058\n",
       "Snackers                155066     117862   222674   169272"
      ]
     },
     "execution_count": 84,
     "metadata": {},
     "output_type": "execute_result"
    }
   ],
   "source": [
    "crosstab_profile_region"
   ]
  },
  {
   "cell_type": "code",
   "execution_count": 85,
   "id": "ef4bb4f1-cdc7-45a6-b32c-1a004c974324",
   "metadata": {},
   "outputs": [],
   "source": [
    "# Comparing customer profiles & departments\n",
    "crosstab_profile_dept = pd.crosstab(df_high_act_cust['profile'], df_high_act_cust['department_id'], dropna = False)"
   ]
  },
  {
   "cell_type": "code",
   "execution_count": 86,
   "id": "bfe6c0d4-3cea-47d3-813c-c01b1649653c",
   "metadata": {},
   "outputs": [
    {
     "data": {
      "text/html": [
       "<div>\n",
       "<style scoped>\n",
       "    .dataframe tbody tr th:only-of-type {\n",
       "        vertical-align: middle;\n",
       "    }\n",
       "\n",
       "    .dataframe tbody tr th {\n",
       "        vertical-align: top;\n",
       "    }\n",
       "\n",
       "    .dataframe thead th {\n",
       "        text-align: right;\n",
       "    }\n",
       "</style>\n",
       "<table border=\"1\" class=\"dataframe\">\n",
       "  <thead>\n",
       "    <tr style=\"text-align: right;\">\n",
       "      <th>department_id</th>\n",
       "      <th>1</th>\n",
       "      <th>2</th>\n",
       "      <th>3</th>\n",
       "      <th>4</th>\n",
       "      <th>5</th>\n",
       "      <th>6</th>\n",
       "      <th>7</th>\n",
       "      <th>8</th>\n",
       "      <th>9</th>\n",
       "      <th>10</th>\n",
       "      <th>...</th>\n",
       "      <th>12</th>\n",
       "      <th>13</th>\n",
       "      <th>14</th>\n",
       "      <th>15</th>\n",
       "      <th>16</th>\n",
       "      <th>17</th>\n",
       "      <th>18</th>\n",
       "      <th>19</th>\n",
       "      <th>20</th>\n",
       "      <th>21</th>\n",
       "    </tr>\n",
       "    <tr>\n",
       "      <th>profile</th>\n",
       "      <th></th>\n",
       "      <th></th>\n",
       "      <th></th>\n",
       "      <th></th>\n",
       "      <th></th>\n",
       "      <th></th>\n",
       "      <th></th>\n",
       "      <th></th>\n",
       "      <th></th>\n",
       "      <th></th>\n",
       "      <th></th>\n",
       "      <th></th>\n",
       "      <th></th>\n",
       "      <th></th>\n",
       "      <th></th>\n",
       "      <th></th>\n",
       "      <th></th>\n",
       "      <th></th>\n",
       "      <th></th>\n",
       "      <th></th>\n",
       "      <th></th>\n",
       "    </tr>\n",
       "  </thead>\n",
       "  <tbody>\n",
       "    <tr>\n",
       "      <th>Alcohol Drinkers</th>\n",
       "      <td>0</td>\n",
       "      <td>0</td>\n",
       "      <td>0</td>\n",
       "      <td>0</td>\n",
       "      <td>31807</td>\n",
       "      <td>0</td>\n",
       "      <td>0</td>\n",
       "      <td>0</td>\n",
       "      <td>0</td>\n",
       "      <td>0</td>\n",
       "      <td>...</td>\n",
       "      <td>0</td>\n",
       "      <td>0</td>\n",
       "      <td>0</td>\n",
       "      <td>0</td>\n",
       "      <td>0</td>\n",
       "      <td>0</td>\n",
       "      <td>0</td>\n",
       "      <td>0</td>\n",
       "      <td>0</td>\n",
       "      <td>0</td>\n",
       "    </tr>\n",
       "    <tr>\n",
       "      <th>Average Retired</th>\n",
       "      <td>791721</td>\n",
       "      <td>12798</td>\n",
       "      <td>419265</td>\n",
       "      <td>3457991</td>\n",
       "      <td>50857</td>\n",
       "      <td>98563</td>\n",
       "      <td>898471</td>\n",
       "      <td>0</td>\n",
       "      <td>317424</td>\n",
       "      <td>12187</td>\n",
       "      <td>...</td>\n",
       "      <td>268486</td>\n",
       "      <td>671607</td>\n",
       "      <td>238970</td>\n",
       "      <td>387558</td>\n",
       "      <td>1954402</td>\n",
       "      <td>251694</td>\n",
       "      <td>166158</td>\n",
       "      <td>890557</td>\n",
       "      <td>373256</td>\n",
       "      <td>24194</td>\n",
       "    </tr>\n",
       "    <tr>\n",
       "      <th>Average-Income Family</th>\n",
       "      <td>139432</td>\n",
       "      <td>2125</td>\n",
       "      <td>73254</td>\n",
       "      <td>609739</td>\n",
       "      <td>8147</td>\n",
       "      <td>17146</td>\n",
       "      <td>156010</td>\n",
       "      <td>0</td>\n",
       "      <td>56657</td>\n",
       "      <td>2221</td>\n",
       "      <td>...</td>\n",
       "      <td>48290</td>\n",
       "      <td>119920</td>\n",
       "      <td>40325</td>\n",
       "      <td>69119</td>\n",
       "      <td>341188</td>\n",
       "      <td>44574</td>\n",
       "      <td>27480</td>\n",
       "      <td>159736</td>\n",
       "      <td>65629</td>\n",
       "      <td>4261</td>\n",
       "    </tr>\n",
       "    <tr>\n",
       "      <th>Has Babies</th>\n",
       "      <td>0</td>\n",
       "      <td>0</td>\n",
       "      <td>0</td>\n",
       "      <td>0</td>\n",
       "      <td>0</td>\n",
       "      <td>0</td>\n",
       "      <td>0</td>\n",
       "      <td>0</td>\n",
       "      <td>0</td>\n",
       "      <td>0</td>\n",
       "      <td>...</td>\n",
       "      <td>0</td>\n",
       "      <td>0</td>\n",
       "      <td>0</td>\n",
       "      <td>0</td>\n",
       "      <td>0</td>\n",
       "      <td>0</td>\n",
       "      <td>47151</td>\n",
       "      <td>0</td>\n",
       "      <td>0</td>\n",
       "      <td>0</td>\n",
       "    </tr>\n",
       "    <tr>\n",
       "      <th>High-Income Family</th>\n",
       "      <td>165423</td>\n",
       "      <td>2768</td>\n",
       "      <td>90778</td>\n",
       "      <td>702406</td>\n",
       "      <td>12620</td>\n",
       "      <td>20440</td>\n",
       "      <td>188021</td>\n",
       "      <td>0</td>\n",
       "      <td>66239</td>\n",
       "      <td>2236</td>\n",
       "      <td>...</td>\n",
       "      <td>57035</td>\n",
       "      <td>141109</td>\n",
       "      <td>49432</td>\n",
       "      <td>82370</td>\n",
       "      <td>403200</td>\n",
       "      <td>54345</td>\n",
       "      <td>33065</td>\n",
       "      <td>182363</td>\n",
       "      <td>77655</td>\n",
       "      <td>4878</td>\n",
       "    </tr>\n",
       "    <tr>\n",
       "      <th>Low-Income Family</th>\n",
       "      <td>227591</td>\n",
       "      <td>3618</td>\n",
       "      <td>117232</td>\n",
       "      <td>939268</td>\n",
       "      <td>15680</td>\n",
       "      <td>25286</td>\n",
       "      <td>315883</td>\n",
       "      <td>0</td>\n",
       "      <td>80635</td>\n",
       "      <td>4317</td>\n",
       "      <td>...</td>\n",
       "      <td>59368</td>\n",
       "      <td>183416</td>\n",
       "      <td>80474</td>\n",
       "      <td>99411</td>\n",
       "      <td>539597</td>\n",
       "      <td>79627</td>\n",
       "      <td>38446</td>\n",
       "      <td>405251</td>\n",
       "      <td>109324</td>\n",
       "      <td>7062</td>\n",
       "    </tr>\n",
       "    <tr>\n",
       "      <th>Meat Eaters</th>\n",
       "      <td>0</td>\n",
       "      <td>0</td>\n",
       "      <td>0</td>\n",
       "      <td>0</td>\n",
       "      <td>0</td>\n",
       "      <td>0</td>\n",
       "      <td>0</td>\n",
       "      <td>0</td>\n",
       "      <td>0</td>\n",
       "      <td>0</td>\n",
       "      <td>...</td>\n",
       "      <td>0</td>\n",
       "      <td>0</td>\n",
       "      <td>0</td>\n",
       "      <td>0</td>\n",
       "      <td>0</td>\n",
       "      <td>0</td>\n",
       "      <td>0</td>\n",
       "      <td>0</td>\n",
       "      <td>0</td>\n",
       "      <td>0</td>\n",
       "    </tr>\n",
       "    <tr>\n",
       "      <th>Other</th>\n",
       "      <td>462664</td>\n",
       "      <td>7694</td>\n",
       "      <td>244788</td>\n",
       "      <td>1964571</td>\n",
       "      <td>0</td>\n",
       "      <td>56164</td>\n",
       "      <td>586406</td>\n",
       "      <td>0</td>\n",
       "      <td>176097</td>\n",
       "      <td>7323</td>\n",
       "      <td>...</td>\n",
       "      <td>139713</td>\n",
       "      <td>388979</td>\n",
       "      <td>153273</td>\n",
       "      <td>217528</td>\n",
       "      <td>1130293</td>\n",
       "      <td>153788</td>\n",
       "      <td>36502</td>\n",
       "      <td>0</td>\n",
       "      <td>221764</td>\n",
       "      <td>14219</td>\n",
       "    </tr>\n",
       "    <tr>\n",
       "      <th>Pet Owners</th>\n",
       "      <td>0</td>\n",
       "      <td>0</td>\n",
       "      <td>0</td>\n",
       "      <td>0</td>\n",
       "      <td>0</td>\n",
       "      <td>0</td>\n",
       "      <td>0</td>\n",
       "      <td>93060</td>\n",
       "      <td>0</td>\n",
       "      <td>0</td>\n",
       "      <td>...</td>\n",
       "      <td>0</td>\n",
       "      <td>0</td>\n",
       "      <td>0</td>\n",
       "      <td>0</td>\n",
       "      <td>0</td>\n",
       "      <td>0</td>\n",
       "      <td>0</td>\n",
       "      <td>0</td>\n",
       "      <td>0</td>\n",
       "      <td>0</td>\n",
       "    </tr>\n",
       "    <tr>\n",
       "      <th>Poor Retired</th>\n",
       "      <td>63294</td>\n",
       "      <td>1073</td>\n",
       "      <td>31152</td>\n",
       "      <td>251005</td>\n",
       "      <td>5106</td>\n",
       "      <td>6082</td>\n",
       "      <td>114245</td>\n",
       "      <td>0</td>\n",
       "      <td>18745</td>\n",
       "      <td>1386</td>\n",
       "      <td>...</td>\n",
       "      <td>10285</td>\n",
       "      <td>48980</td>\n",
       "      <td>27083</td>\n",
       "      <td>23493</td>\n",
       "      <td>149623</td>\n",
       "      <td>26180</td>\n",
       "      <td>8474</td>\n",
       "      <td>161218</td>\n",
       "      <td>30197</td>\n",
       "      <td>1932</td>\n",
       "    </tr>\n",
       "    <tr>\n",
       "      <th>Rich Retired</th>\n",
       "      <td>207238</td>\n",
       "      <td>3219</td>\n",
       "      <td>109305</td>\n",
       "      <td>881194</td>\n",
       "      <td>14264</td>\n",
       "      <td>24631</td>\n",
       "      <td>237858</td>\n",
       "      <td>0</td>\n",
       "      <td>80922</td>\n",
       "      <td>2921</td>\n",
       "      <td>...</td>\n",
       "      <td>70115</td>\n",
       "      <td>173292</td>\n",
       "      <td>61597</td>\n",
       "      <td>100273</td>\n",
       "      <td>499683</td>\n",
       "      <td>67580</td>\n",
       "      <td>39957</td>\n",
       "      <td>229952</td>\n",
       "      <td>95825</td>\n",
       "      <td>6185</td>\n",
       "    </tr>\n",
       "    <tr>\n",
       "      <th>Rich Single Adult</th>\n",
       "      <td>64368</td>\n",
       "      <td>1116</td>\n",
       "      <td>35054</td>\n",
       "      <td>273099</td>\n",
       "      <td>6146</td>\n",
       "      <td>7679</td>\n",
       "      <td>75007</td>\n",
       "      <td>0</td>\n",
       "      <td>25417</td>\n",
       "      <td>860</td>\n",
       "      <td>...</td>\n",
       "      <td>21489</td>\n",
       "      <td>55402</td>\n",
       "      <td>19696</td>\n",
       "      <td>32322</td>\n",
       "      <td>159196</td>\n",
       "      <td>22069</td>\n",
       "      <td>13159</td>\n",
       "      <td>72455</td>\n",
       "      <td>30184</td>\n",
       "      <td>2037</td>\n",
       "    </tr>\n",
       "    <tr>\n",
       "      <th>Snackers</th>\n",
       "      <td>0</td>\n",
       "      <td>0</td>\n",
       "      <td>0</td>\n",
       "      <td>0</td>\n",
       "      <td>0</td>\n",
       "      <td>0</td>\n",
       "      <td>0</td>\n",
       "      <td>0</td>\n",
       "      <td>0</td>\n",
       "      <td>0</td>\n",
       "      <td>...</td>\n",
       "      <td>0</td>\n",
       "      <td>0</td>\n",
       "      <td>0</td>\n",
       "      <td>0</td>\n",
       "      <td>0</td>\n",
       "      <td>0</td>\n",
       "      <td>0</td>\n",
       "      <td>664874</td>\n",
       "      <td>0</td>\n",
       "      <td>0</td>\n",
       "    </tr>\n",
       "  </tbody>\n",
       "</table>\n",
       "<p>13 rows × 21 columns</p>\n",
       "</div>"
      ],
      "text/plain": [
       "department_id              1      2       3        4      5      6       7   \\\n",
       "profile                                                                       \n",
       "Alcohol Drinkers            0      0       0        0  31807      0       0   \n",
       "Average Retired        791721  12798  419265  3457991  50857  98563  898471   \n",
       "Average-Income Family  139432   2125   73254   609739   8147  17146  156010   \n",
       "Has Babies                  0      0       0        0      0      0       0   \n",
       "High-Income Family     165423   2768   90778   702406  12620  20440  188021   \n",
       "Low-Income Family      227591   3618  117232   939268  15680  25286  315883   \n",
       "Meat Eaters                 0      0       0        0      0      0       0   \n",
       "Other                  462664   7694  244788  1964571      0  56164  586406   \n",
       "Pet Owners                  0      0       0        0      0      0       0   \n",
       "Poor Retired            63294   1073   31152   251005   5106   6082  114245   \n",
       "Rich Retired           207238   3219  109305   881194  14264  24631  237858   \n",
       "Rich Single Adult       64368   1116   35054   273099   6146   7679   75007   \n",
       "Snackers                    0      0       0        0      0      0       0   \n",
       "\n",
       "department_id             8       9      10  ...      12      13      14  \\\n",
       "profile                                      ...                           \n",
       "Alcohol Drinkers           0       0      0  ...       0       0       0   \n",
       "Average Retired            0  317424  12187  ...  268486  671607  238970   \n",
       "Average-Income Family      0   56657   2221  ...   48290  119920   40325   \n",
       "Has Babies                 0       0      0  ...       0       0       0   \n",
       "High-Income Family         0   66239   2236  ...   57035  141109   49432   \n",
       "Low-Income Family          0   80635   4317  ...   59368  183416   80474   \n",
       "Meat Eaters                0       0      0  ...       0       0       0   \n",
       "Other                      0  176097   7323  ...  139713  388979  153273   \n",
       "Pet Owners             93060       0      0  ...       0       0       0   \n",
       "Poor Retired               0   18745   1386  ...   10285   48980   27083   \n",
       "Rich Retired               0   80922   2921  ...   70115  173292   61597   \n",
       "Rich Single Adult          0   25417    860  ...   21489   55402   19696   \n",
       "Snackers                   0       0      0  ...       0       0       0   \n",
       "\n",
       "department_id              15       16      17      18      19      20     21  \n",
       "profile                                                                        \n",
       "Alcohol Drinkers            0        0       0       0       0       0      0  \n",
       "Average Retired        387558  1954402  251694  166158  890557  373256  24194  \n",
       "Average-Income Family   69119   341188   44574   27480  159736   65629   4261  \n",
       "Has Babies                  0        0       0   47151       0       0      0  \n",
       "High-Income Family      82370   403200   54345   33065  182363   77655   4878  \n",
       "Low-Income Family       99411   539597   79627   38446  405251  109324   7062  \n",
       "Meat Eaters                 0        0       0       0       0       0      0  \n",
       "Other                  217528  1130293  153788   36502       0  221764  14219  \n",
       "Pet Owners                  0        0       0       0       0       0      0  \n",
       "Poor Retired            23493   149623   26180    8474  161218   30197   1932  \n",
       "Rich Retired           100273   499683   67580   39957  229952   95825   6185  \n",
       "Rich Single Adult       32322   159196   22069   13159   72455   30184   2037  \n",
       "Snackers                    0        0       0       0  664874       0      0  \n",
       "\n",
       "[13 rows x 21 columns]"
      ]
     },
     "execution_count": 86,
     "metadata": {},
     "output_type": "execute_result"
    }
   ],
   "source": [
    "crosstab_profile_dept"
   ]
  },
  {
   "cell_type": "code",
   "execution_count": 87,
   "id": "e08e1a52-a9a7-4d4c-a350-d5676ff39315",
   "metadata": {},
   "outputs": [
    {
     "data": {
      "text/plain": [
       "([<matplotlib.axis.XTick at 0x7f90395de760>,\n",
       "  <matplotlib.axis.XTick at 0x7f90395de730>,\n",
       "  <matplotlib.axis.XTick at 0x7f8dd02da310>,\n",
       "  <matplotlib.axis.XTick at 0x7f8dd476a520>,\n",
       "  <matplotlib.axis.XTick at 0x7f8dd476ac70>,\n",
       "  <matplotlib.axis.XTick at 0x7f8dd4772400>,\n",
       "  <matplotlib.axis.XTick at 0x7f8dd4772b50>,\n",
       "  <matplotlib.axis.XTick at 0x7f8dd477c2e0>,\n",
       "  <matplotlib.axis.XTick at 0x7f8dd4772b20>,\n",
       "  <matplotlib.axis.XTick at 0x7f90395ab1c0>,\n",
       "  <matplotlib.axis.XTick at 0x7f8dd477c040>],\n",
       " [Text(0, 0, 'Snackers'),\n",
       "  Text(1, 0, 'Rich Single Adult'),\n",
       "  Text(2, 0, 'High-Income Family'),\n",
       "  Text(3, 0, 'Average-Income Family'),\n",
       "  Text(4, 0, 'Low-Income Family'),\n",
       "  Text(5, 0, 'Rich Retired'),\n",
       "  Text(6, 0, 'Average Retired'),\n",
       "  Text(7, 0, 'Poor Retired'),\n",
       "  Text(8, 0, 'Has Babies'),\n",
       "  Text(9, 0, 'Meat Eaters'),\n",
       "  Text(10, 0, 'other')])"
      ]
     },
     "execution_count": 87,
     "metadata": {},
     "output_type": "execute_result"
    },
    {
     "data": {
      "image/png": "[encoded data removed]",
      "text/plain": [
       "<Figure size 1500x500 with 1 Axes>"
      ]
     },
     "metadata": {},
     "output_type": "display_data"
    }
   ],
   "source": [
    "# Creating a stacked barchart of customer profile by region\n",
    "bar_region_prof = crosstab_profile_region.loc[:,['Midwest','Northeast','South','West']].apply(lambda x: x*100/sum(x), axis=1).plot.bar(stacked=True, rot=45, figsize=(15,5), colormap = 'cubehelix').legend(title=\"Region\", bbox_to_anchor=(1.0,1.0))\n",
    "plt.xlabel('')\n",
    "plt.ylabel('% of Orders by Region')\n",
    "plt.title ('Instacart Orders by Profile & Region')\n",
    "plt.xticks([0,1,2,3,4,5,6,7,8,9,10],['Snackers','Rich Single Adult','High-Income Family','Average-Income Family','Low-Income Family','Rich Retired','Average Retired','Poor Retired','Has Babies','Meat Eaters','other'])"
   ]
  },
  {
   "cell_type": "markdown",
   "id": "97175334-4abd-4e05-8f5a-68e9bb3ea076",
   "metadata": {
    "tags": []
   },
   "source": [
    "Highest % of orders by region is in The South\n",
    "\n",
    "Marketing team should focus on advertising to their clients in the Northeast"
   ]
  },
  {
   "cell_type": "code",
   "execution_count": 88,
   "id": "1506c601-5210-4626-8522-01c33d3f002d",
   "metadata": {},
   "outputs": [],
   "source": [
    "# Export the stackbar chart\n",
    "bar_region_prof.figure.savefig(os.path.join(path, '04 Analysis', 'Visualizations','region_profiles_barchart.03.16.png'))"
   ]
  },
  {
   "cell_type": "code",
   "execution_count": 89,
   "id": "cf5a5fc0-ca74-417f-a093-7d71e8b89eae",
   "metadata": {},
   "outputs": [],
   "source": [
    "# Export update df.pkl format \n",
    "df_high_act_cust.to_pickle(os.path.join(path, '02 Data', 'Prepared Data', 'high_activity_customers_4.10_part2.pkl'))"
   ]
  },
  {
   "cell_type": "code",
   "execution_count": null,
   "id": "0ecbbef1-7e5b-4b38-abb4-bf2b71eac684",
   "metadata": {},
   "outputs": [],
   "source": []
  }
 ],
 "metadata": {
  "kernelspec": {
   "display_name": "Python 3 (ipykernel)",
   "language": "python",
   "name": "python3"
  },
  "language_info": {
   "codemirror_mode": {
    "name": "ipython",
    "version": 3
   },
   "file_extension": ".py",
   "mimetype": "text/x-python",
   "name": "python",
   "nbconvert_exporter": "python",
   "pygments_lexer": "ipython3",
   "version": "3.9.13"
  }
 },
 "nbformat": 4,
 "nbformat_minor": 5
}
