{
 "cells": [
  {
   "cell_type": "code",
   "execution_count": 1,
   "id": "2246797b-e902-463b-b008-09ce553b9357",
   "metadata": {},
   "outputs": [],
   "source": [
    "x=50"
   ]
  },
  {
   "cell_type": "code",
   "execution_count": 2,
   "id": "b27f8a7c-8623-4c91-ba0b-4aba8b5a74fe",
   "metadata": {},
   "outputs": [],
   "source": [
    "y=50"
   ]
  },
  {
   "cell_type": "code",
   "execution_count": 3,
   "id": "1128b358-682b-419b-bc5c-0793d9ad4202",
   "metadata": {},
   "outputs": [
    {
     "data": {
      "text/plain": [
       "100"
      ]
     },
     "execution_count": 3,
     "metadata": {},
     "output_type": "execute_result"
    }
   ],
   "source": [
    "x+y"
   ]
  },
  {
   "cell_type": "code",
   "execution_count": 4,
   "id": "532f922e-3132-40b1-a313-d422b5b416e8",
   "metadata": {},
   "outputs": [],
   "source": [
    "z=200"
   ]
  },
  {
   "cell_type": "code",
   "execution_count": 5,
   "id": "8d262176-b0c6-41ab-8560-6ba6fbf06848",
   "metadata": {},
   "outputs": [
    {
     "data": {
      "text/plain": [
       "100"
      ]
     },
     "execution_count": 5,
     "metadata": {},
     "output_type": "execute_result"
    }
   ],
   "source": [
    "z-(x+y)"
   ]
  },
  {
   "cell_type": "code",
   "execution_count": 6,
   "id": "e208dd9b-6d88-4863-91a2-9291a1ae5337",
   "metadata": {},
   "outputs": [
    {
     "data": {
      "text/plain": [
       "100.0"
      ]
     },
     "execution_count": 6,
     "metadata": {},
     "output_type": "execute_result"
    }
   ],
   "source": [
    "z/2"
   ]
  },
  {
   "cell_type": "code",
   "execution_count": 7,
   "id": "52fa2557-32ee-492b-832a-ed519fed1f25",
   "metadata": {},
   "outputs": [],
   "source": [
    "a=10.55"
   ]
  },
  {
   "cell_type": "code",
   "execution_count": 8,
   "id": "01bd9047-6f1c-448f-96ee-8607c048f3d7",
   "metadata": {},
   "outputs": [],
   "source": [
    "b=2.55"
   ]
  },
  {
   "cell_type": "code",
   "execution_count": 9,
   "id": "de9e8111-09eb-494a-a668-53fcc8864713",
   "metadata": {},
   "outputs": [
    {
     "data": {
      "text/plain": [
       "4.137254901960785"
      ]
     },
     "execution_count": 9,
     "metadata": {},
     "output_type": "execute_result"
    }
   ],
   "source": [
    "a/b"
   ]
  },
  {
   "cell_type": "code",
   "execution_count": 10,
   "id": "8d9b3832-acc4-449d-9808-a454fba950fe",
   "metadata": {},
   "outputs": [],
   "source": [
    "c='Hello'"
   ]
  },
  {
   "cell_type": "code",
   "execution_count": 11,
   "id": "df7b5bcd-fc36-4033-b65f-93fae8e5977d",
   "metadata": {},
   "outputs": [],
   "source": [
    "b='Python'"
   ]
  },
  {
   "cell_type": "code",
   "execution_count": 13,
   "id": "a05ae076-53ce-4f88-94a7-8ba6da7ac665",
   "metadata": {},
   "outputs": [],
   "source": [
    "d='python'"
   ]
  },
  {
   "cell_type": "code",
   "execution_count": 14,
   "id": "c88f49e5-54e9-4b0b-9ab7-64bf471dffe3",
   "metadata": {},
   "outputs": [
    {
     "data": {
      "text/plain": [
       "'Hellopython'"
      ]
     },
     "execution_count": 14,
     "metadata": {},
     "output_type": "execute_result"
    }
   ],
   "source": [
    "c+d"
   ]
  },
  {
   "cell_type": "code",
   "execution_count": 15,
   "id": "00ce83aa-b798-4060-9c5e-13275884f491",
   "metadata": {},
   "outputs": [],
   "source": [
    "e='Shop'"
   ]
  },
  {
   "cell_type": "code",
   "execution_count": 16,
   "id": "5b37eff5-552b-4982-8d48-f016e6c2d81f",
   "metadata": {},
   "outputs": [],
   "source": [
    "f='ping'"
   ]
  },
  {
   "cell_type": "code",
   "execution_count": 17,
   "id": "28ea2ac8-6c6b-4d38-81e6-79cbbf1cd802",
   "metadata": {},
   "outputs": [
    {
     "data": {
      "text/plain": [
       "'Shopping'"
      ]
     },
     "execution_count": 17,
     "metadata": {},
     "output_type": "execute_result"
    }
   ],
   "source": [
    "e+f"
   ]
  },
  {
   "cell_type": "code",
   "execution_count": 18,
   "id": "1c6f4f02-c15d-47f8-9577-982d69138d14",
   "metadata": {},
   "outputs": [],
   "source": [
    "g='spring'"
   ]
  },
  {
   "cell_type": "code",
   "execution_count": 19,
   "id": "d5d68d4c-8483-43c8-beea-86b74ad12e51",
   "metadata": {},
   "outputs": [],
   "source": [
    "h='winter'"
   ]
  },
  {
   "cell_type": "code",
   "execution_count": 20,
   "id": "06fec8e2-6aa1-4474-b574-386c6c754437",
   "metadata": {},
   "outputs": [],
   "source": [
    "i='is here'"
   ]
  },
  {
   "cell_type": "code",
   "execution_count": 21,
   "id": "54045785-9877-4695-99d4-4756b60d5855",
   "metadata": {},
   "outputs": [],
   "source": [
    "j=' is here'"
   ]
  },
  {
   "cell_type": "code",
   "execution_count": 22,
   "id": "22f847ef-658c-44be-ac80-cdadc8a6c2fb",
   "metadata": {},
   "outputs": [],
   "source": [
    "k=' is gone'"
   ]
  },
  {
   "cell_type": "code",
   "execution_count": 23,
   "id": "158488e7-60b2-4cf2-a452-f6b3ae9ce74e",
   "metadata": {},
   "outputs": [
    {
     "data": {
      "text/plain": [
       "'spring is here'"
      ]
     },
     "execution_count": 23,
     "metadata": {},
     "output_type": "execute_result"
    }
   ],
   "source": [
    "g+j"
   ]
  },
  {
   "cell_type": "code",
   "execution_count": 24,
   "id": "86ea7a15-d23f-4697-a987-cb9a39cf1301",
   "metadata": {},
   "outputs": [
    {
     "data": {
      "text/plain": [
       "'winter is gone'"
      ]
     },
     "execution_count": 24,
     "metadata": {},
     "output_type": "execute_result"
    }
   ],
   "source": [
    "h+k"
   ]
  },
  {
   "cell_type": "code",
   "execution_count": null,
   "id": "63b05eb7-e871-4a94-9c6d-9a3a2e7ec9c9",
   "metadata": {},
   "outputs": [],
   "source": []
  }
 ],
 "metadata": {
  "kernelspec": {
   "display_name": "Python 3 (ipykernel)",
   "language": "python",
   "name": "python3"
  },
  "language_info": {
   "codemirror_mode": {
    "name": "ipython",
    "version": 3
   },
   "file_extension": ".py",
   "mimetype": "text/x-python",
   "name": "python",
   "nbconvert_exporter": "python",
   "pygments_lexer": "ipython3",
   "version": "3.9.13"
  }
 },
 "nbformat": 4,
 "nbformat_minor": 5
}
