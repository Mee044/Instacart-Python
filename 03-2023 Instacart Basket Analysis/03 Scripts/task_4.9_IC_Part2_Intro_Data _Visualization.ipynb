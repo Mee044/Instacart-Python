{
 "cells": [
  {
   "cell_type": "markdown",
   "id": "bad801af-02dc-4153-baf9-63a18b423778",
   "metadata": {},
   "source": [
    "# Task 4.9 (Part 2)"
   ]
  },
  {
   "cell_type": "markdown",
   "id": "7b445b67-b4fd-4788-97b4-7405274c07b9",
   "metadata": {},
   "source": [
    "## Import libraries and import the data set from part 1 in this task"
   ]
  },
  {
   "cell_type": "code",
   "execution_count": 60,
   "id": "8a6c7482-ded8-43fc-8f8f-0370bc66fd10",
   "metadata": {},
   "outputs": [],
   "source": [
    "# importing libraries\n",
    "import pandas as pd\n",
    "import numpy as np\n",
    "import os\n",
    "import matplotlib.pyplot as plt\n",
    "import seaborn as sns\n",
    "import scipy"
   ]
  },
  {
   "cell_type": "code",
   "execution_count": 61,
   "id": "48f0b6e4-1cd2-4118-a3e8-e29a7cc156f4",
   "metadata": {},
   "outputs": [],
   "source": [
    "path = r'/Users/rusamijan/03-2023 Instacart Basket Analysis'"
   ]
  },
  {
   "cell_type": "code",
   "execution_count": 62,
   "id": "b5bee8ec-ee54-48ec-a0da-c8147bc7a6a8",
   "metadata": {},
   "outputs": [],
   "source": [
    "df_ords_prods_custs_all = pd.read_pickle(os.path.join(path, '02 Data','Prepared Data', 'orders_products_customers_all.pkl'))"
   ]
  },
  {
   "cell_type": "code",
   "execution_count": 50,
   "id": "3150058c-f358-4e73-affe-fabd3b037e78",
   "metadata": {},
   "outputs": [
    {
     "data": {
      "text/html": [
       "<div>\n",
       "<style scoped>\n",
       "    .dataframe tbody tr th:only-of-type {\n",
       "        vertical-align: middle;\n",
       "    }\n",
       "\n",
       "    .dataframe tbody tr th {\n",
       "        vertical-align: top;\n",
       "    }\n",
       "\n",
       "    .dataframe thead th {\n",
       "        text-align: right;\n",
       "    }\n",
       "</style>\n",
       "<table border=\"1\" class=\"dataframe\">\n",
       "  <thead>\n",
       "    <tr style=\"text-align: right;\">\n",
       "      <th></th>\n",
       "      <th>order_id</th>\n",
       "      <th>user_id</th>\n",
       "      <th>order_number</th>\n",
       "      <th>orders_day_of_week</th>\n",
       "      <th>order_hour_of_day</th>\n",
       "      <th>days_since_prior_order</th>\n",
       "      <th>product_id</th>\n",
       "      <th>add_to_cart_order</th>\n",
       "      <th>reordered</th>\n",
       "      <th>product_name</th>\n",
       "      <th>...</th>\n",
       "      <th>spending_flag</th>\n",
       "      <th>median_prior_orders</th>\n",
       "      <th>order_frequency_flag</th>\n",
       "      <th>gender</th>\n",
       "      <th>state</th>\n",
       "      <th>age</th>\n",
       "      <th>date_of_registration</th>\n",
       "      <th>number_dependants</th>\n",
       "      <th>marital_status</th>\n",
       "      <th>income</th>\n",
       "    </tr>\n",
       "  </thead>\n",
       "  <tbody>\n",
       "    <tr>\n",
       "      <th>0</th>\n",
       "      <td>2539329</td>\n",
       "      <td>1</td>\n",
       "      <td>1</td>\n",
       "      <td>2</td>\n",
       "      <td>8</td>\n",
       "      <td>NaN</td>\n",
       "      <td>196.0</td>\n",
       "      <td>1.0</td>\n",
       "      <td>0.0</td>\n",
       "      <td>Soda</td>\n",
       "      <td>...</td>\n",
       "      <td>Low spender</td>\n",
       "      <td>20.5</td>\n",
       "      <td>Non-frequent customer</td>\n",
       "      <td>Female</td>\n",
       "      <td>Alabama</td>\n",
       "      <td>31</td>\n",
       "      <td>2/17/2019</td>\n",
       "      <td>3</td>\n",
       "      <td>married</td>\n",
       "      <td>40423</td>\n",
       "    </tr>\n",
       "    <tr>\n",
       "      <th>1</th>\n",
       "      <td>2398795</td>\n",
       "      <td>1</td>\n",
       "      <td>2</td>\n",
       "      <td>3</td>\n",
       "      <td>7</td>\n",
       "      <td>15.0</td>\n",
       "      <td>196.0</td>\n",
       "      <td>1.0</td>\n",
       "      <td>1.0</td>\n",
       "      <td>Soda</td>\n",
       "      <td>...</td>\n",
       "      <td>Low spender</td>\n",
       "      <td>20.5</td>\n",
       "      <td>Non-frequent customer</td>\n",
       "      <td>Female</td>\n",
       "      <td>Alabama</td>\n",
       "      <td>31</td>\n",
       "      <td>2/17/2019</td>\n",
       "      <td>3</td>\n",
       "      <td>married</td>\n",
       "      <td>40423</td>\n",
       "    </tr>\n",
       "    <tr>\n",
       "      <th>2</th>\n",
       "      <td>473747</td>\n",
       "      <td>1</td>\n",
       "      <td>3</td>\n",
       "      <td>3</td>\n",
       "      <td>12</td>\n",
       "      <td>21.0</td>\n",
       "      <td>196.0</td>\n",
       "      <td>1.0</td>\n",
       "      <td>1.0</td>\n",
       "      <td>Soda</td>\n",
       "      <td>...</td>\n",
       "      <td>Low spender</td>\n",
       "      <td>20.5</td>\n",
       "      <td>Non-frequent customer</td>\n",
       "      <td>Female</td>\n",
       "      <td>Alabama</td>\n",
       "      <td>31</td>\n",
       "      <td>2/17/2019</td>\n",
       "      <td>3</td>\n",
       "      <td>married</td>\n",
       "      <td>40423</td>\n",
       "    </tr>\n",
       "    <tr>\n",
       "      <th>3</th>\n",
       "      <td>2254736</td>\n",
       "      <td>1</td>\n",
       "      <td>4</td>\n",
       "      <td>4</td>\n",
       "      <td>7</td>\n",
       "      <td>29.0</td>\n",
       "      <td>196.0</td>\n",
       "      <td>1.0</td>\n",
       "      <td>1.0</td>\n",
       "      <td>Soda</td>\n",
       "      <td>...</td>\n",
       "      <td>Low spender</td>\n",
       "      <td>20.5</td>\n",
       "      <td>Non-frequent customer</td>\n",
       "      <td>Female</td>\n",
       "      <td>Alabama</td>\n",
       "      <td>31</td>\n",
       "      <td>2/17/2019</td>\n",
       "      <td>3</td>\n",
       "      <td>married</td>\n",
       "      <td>40423</td>\n",
       "    </tr>\n",
       "    <tr>\n",
       "      <th>4</th>\n",
       "      <td>431534</td>\n",
       "      <td>1</td>\n",
       "      <td>5</td>\n",
       "      <td>4</td>\n",
       "      <td>15</td>\n",
       "      <td>28.0</td>\n",
       "      <td>196.0</td>\n",
       "      <td>1.0</td>\n",
       "      <td>1.0</td>\n",
       "      <td>Soda</td>\n",
       "      <td>...</td>\n",
       "      <td>Low spender</td>\n",
       "      <td>20.5</td>\n",
       "      <td>Non-frequent customer</td>\n",
       "      <td>Female</td>\n",
       "      <td>Alabama</td>\n",
       "      <td>31</td>\n",
       "      <td>2/17/2019</td>\n",
       "      <td>3</td>\n",
       "      <td>married</td>\n",
       "      <td>40423</td>\n",
       "    </tr>\n",
       "  </tbody>\n",
       "</table>\n",
       "<p>5 rows × 31 columns</p>\n",
       "</div>"
      ],
      "text/plain": [
       "   order_id  user_id  order_number  orders_day_of_week  order_hour_of_day  \\\n",
       "0   2539329        1             1                   2                  8   \n",
       "1   2398795        1             2                   3                  7   \n",
       "2    473747        1             3                   3                 12   \n",
       "3   2254736        1             4                   4                  7   \n",
       "4    431534        1             5                   4                 15   \n",
       "\n",
       "   days_since_prior_order  product_id  add_to_cart_order  reordered  \\\n",
       "0                     NaN       196.0                1.0        0.0   \n",
       "1                    15.0       196.0                1.0        1.0   \n",
       "2                    21.0       196.0                1.0        1.0   \n",
       "3                    29.0       196.0                1.0        1.0   \n",
       "4                    28.0       196.0                1.0        1.0   \n",
       "\n",
       "  product_name  ...  spending_flag  median_prior_orders  \\\n",
       "0         Soda  ...    Low spender                 20.5   \n",
       "1         Soda  ...    Low spender                 20.5   \n",
       "2         Soda  ...    Low spender                 20.5   \n",
       "3         Soda  ...    Low spender                 20.5   \n",
       "4         Soda  ...    Low spender                 20.5   \n",
       "\n",
       "    order_frequency_flag  gender    state age date_of_registration  \\\n",
       "0  Non-frequent customer  Female  Alabama  31            2/17/2019   \n",
       "1  Non-frequent customer  Female  Alabama  31            2/17/2019   \n",
       "2  Non-frequent customer  Female  Alabama  31            2/17/2019   \n",
       "3  Non-frequent customer  Female  Alabama  31            2/17/2019   \n",
       "4  Non-frequent customer  Female  Alabama  31            2/17/2019   \n",
       "\n",
       "  number_dependants  marital_status income  \n",
       "0                 3         married  40423  \n",
       "1                 3         married  40423  \n",
       "2                 3         married  40423  \n",
       "3                 3         married  40423  \n",
       "4                 3         married  40423  \n",
       "\n",
       "[5 rows x 31 columns]"
      ]
     },
     "execution_count": 50,
     "metadata": {},
     "output_type": "execute_result"
    }
   ],
   "source": [
    "df_ords_prods_custs_all.head()"
   ]
  },
  {
   "cell_type": "code",
   "execution_count": 51,
   "id": "c00fd533-707b-4ba4-8cf6-7e6a69c2e776",
   "metadata": {},
   "outputs": [
    {
     "name": "stdout",
     "output_type": "stream",
     "text": [
      "<class 'pandas.core.frame.DataFrame'>\n",
      "Int64Index: 32404859 entries, 0 to 32404858\n",
      "Data columns (total 31 columns):\n",
      " #   Column                  Dtype   \n",
      "---  ------                  -----   \n",
      " 0   order_id                int64   \n",
      " 1   user_id                 int64   \n",
      " 2   order_number            int64   \n",
      " 3   orders_day_of_week      int64   \n",
      " 4   order_hour_of_day       int64   \n",
      " 5   days_since_prior_order  float64 \n",
      " 6   product_id              float64 \n",
      " 7   add_to_cart_order       float64 \n",
      " 8   reordered               float64 \n",
      " 9   product_name            object  \n",
      " 10  aisle_id                int64   \n",
      " 11  department_id           int64   \n",
      " 12  prices                  float64 \n",
      " 13  _merge                  category\n",
      " 14  price_range_loc         object  \n",
      " 15  busiest_day             object  \n",
      " 16  busiest_days            object  \n",
      " 17  busiest_period_of_day   object  \n",
      " 18  max_order               int64   \n",
      " 19  loyalty_flag            object  \n",
      " 20  average_price           float64 \n",
      " 21  spending_flag           object  \n",
      " 22  median_prior_orders     float64 \n",
      " 23  order_frequency_flag    object  \n",
      " 24  gender                  object  \n",
      " 25  state                   object  \n",
      " 26  age                     int64   \n",
      " 27  date_of_registration    object  \n",
      " 28  number_dependants       int64   \n",
      " 29  marital_status          object  \n",
      " 30  income                  int64   \n",
      "dtypes: category(1), float64(7), int64(11), object(12)\n",
      "memory usage: 7.5+ GB\n"
     ]
    }
   ],
   "source": [
    "df_ords_prods_custs_all.info()"
   ]
  },
  {
   "cell_type": "code",
   "execution_count": 52,
   "id": "c69b4eed-07b6-4ee3-a005-90c7fe90b571",
   "metadata": {},
   "outputs": [
    {
     "data": {
      "text/plain": [
       "(32404859, 31)"
      ]
     },
     "execution_count": 52,
     "metadata": {},
     "output_type": "execute_result"
    }
   ],
   "source": [
    "df_ords_prods_custs_all.shape"
   ]
  },
  {
   "cell_type": "markdown",
   "id": "fc92b8d2-a684-4545-999c-3781eb66f4cf",
   "metadata": {},
   "source": [
    "## Create Bar Chart"
   ]
  },
  {
   "cell_type": "code",
   "execution_count": 53,
   "id": "75ceee7f-f5fb-417e-8c2b-73f097d6a0a5",
   "metadata": {},
   "outputs": [
    {
     "data": {
      "text/plain": [
       "<AxesSubplot:>"
      ]
     },
     "execution_count": 53,
     "metadata": {},
     "output_type": "execute_result"
    },
    {
     "data": {
      "image/png": "[encoded data removed]",
      "text/plain": [
       "<Figure size 640x480 with 1 Axes>"
      ]
     },
     "metadata": {},
     "output_type": "display_data"
    }
   ],
   "source": [
    "df_ords_prods_custs_all['orders_day_of_week'].value_counts().plot.bar()"
   ]
  },
  {
   "cell_type": "code",
   "execution_count": 54,
   "id": "e60b1e2d-05d5-4a84-9a9d-fba04998dfa8",
   "metadata": {},
   "outputs": [
    {
     "data": {
      "text/plain": [
       "<AxesSubplot:>"
      ]
     },
     "execution_count": 54,
     "metadata": {},
     "output_type": "execute_result"
    },
    {
     "data": {
      "image/png": "[encoded data removed]",
      "text/plain": [
       "<Figure size 640x480 with 1 Axes>"
      ]
     },
     "metadata": {},
     "output_type": "display_data"
    }
   ],
   "source": [
    "#sorting\n",
    "df_ords_prods_custs_all['orders_day_of_week'].value_counts().sort_index().plot.bar()"
   ]
  },
  {
   "cell_type": "code",
   "execution_count": 59,
   "id": "547fab63-b9d5-4022-ada6-9e9b1fea00a8",
   "metadata": {},
   "outputs": [
    {
     "ename": "TypeError",
     "evalue": "'str' object is not callable",
     "output_type": "error",
     "traceback": [
      "\u001b[0;31m---------------------------------------------------------------------------\u001b[0m",
      "\u001b[0;31mTypeError\u001b[0m                                 Traceback (most recent call last)",
      "\u001b[0;32m/var/folders/fb/kyc5hp2j5z9bg9xqqyl73f2c0000gn/T/ipykernel_978/3629084002.py\u001b[0m in \u001b[0;36m<module>\u001b[0;34m\u001b[0m\n\u001b[1;32m      3\u001b[0m \u001b[0mplt\u001b[0m\u001b[0;34m.\u001b[0m\u001b[0mxlabel\u001b[0m\u001b[0;34m(\u001b[0m\u001b[0;34m'Day of Week'\u001b[0m\u001b[0;34m)\u001b[0m\u001b[0;34m\u001b[0m\u001b[0;34m\u001b[0m\u001b[0m\n\u001b[1;32m      4\u001b[0m \u001b[0mplt\u001b[0m\u001b[0;34m.\u001b[0m\u001b[0mylabel\u001b[0m\u001b[0;34m(\u001b[0m\u001b[0;34m'Order Placed in Millions'\u001b[0m\u001b[0;34m)\u001b[0m\u001b[0;34m\u001b[0m\u001b[0;34m\u001b[0m\u001b[0m\n\u001b[0;32m----> 5\u001b[0;31m \u001b[0mplt\u001b[0m\u001b[0;34m.\u001b[0m\u001b[0mtitle\u001b[0m \u001b[0;34m(\u001b[0m\u001b[0;34m''\u001b[0m\u001b[0;34m)\u001b[0m\u001b[0;34m\u001b[0m\u001b[0;34m\u001b[0m\u001b[0m\n\u001b[0m",
      "\u001b[0;31mTypeError\u001b[0m: 'str' object is not callable"
     ]
    },
    {
     "data": {
      "image/png": "[encoded data removed]",
      "text/plain": [
       "<Figure size 640x480 with 1 Axes>"
      ]
     },
     "metadata": {},
     "output_type": "display_data"
    }
   ],
   "source": [
    "#change colors\n",
    "bar_ords_week=df_ords_prods_custs_all['orders_day_of_week'].value_counts().sort_index().plot.bar(color =['purple', 'gray', 'pink', 'brown', 'gold', 'black', 'violet'])\n",
    "plt.xlabel('Day of Week')\n",
    "plt.ylabel('Order Placed in Millions')\n",
    "plt.title ('')"
   ]
  },
  {
   "cell_type": "code",
   "execution_count": null,
   "id": "0ca261a6-8354-4377-8bcc-6b3b7903bb1f",
   "metadata": {},
   "outputs": [],
   "source": [
    "bar_ords_week.figure.savefig(os.path.join(path, '04 Analysis','Visualizations', 'bar_ords_week_03.15.png'))"
   ]
  },
  {
   "cell_type": "code",
   "execution_count": null,
   "id": "470c76b3-d573-4f99-8dfa-7fb15216f4d0",
   "metadata": {},
   "outputs": [],
   "source": [
    "#creating a barchart with the price range of the products\n",
    "bar_price_range =df_price_rag['price_range_loc'].value_counts().plot.bar(rot = 45, color = 'blue')\n",
    "plt.xlabel('')\n",
    "plt.ylabel('Number of Orders')\n",
    "plt.title ('Instacart Products Price Range')"
   ]
  },
  {
   "cell_type": "markdown",
   "id": "1a43a2af-c98d-436a-92db-b89d526b3fd3",
   "metadata": {
    "tags": []
   },
   "source": [
    "## Create Histogram"
   ]
  },
  {
   "cell_type": "code",
   "execution_count": null,
   "id": "9dc2dc39-dffc-406e-9fb1-4daa8ec7ed0f",
   "metadata": {},
   "outputs": [],
   "source": [
    "# Creating a histogram for prices\n",
    "plt.title('Frequency of Instacart Product Price', fontsize = 18, pad=20)\n",
    "hist_prices = df_ords_prods_custs_all['prices'].plot.hist(bins = 100)"
   ]
  },
  {
   "cell_type": "markdown",
   "id": "41a51ab3-f8ef-4fcf-9819-cc930cd72f70",
   "metadata": {
    "tags": []
   },
   "source": [
    "### Investigate why histogram shows just 1 column"
   ]
  },
  {
   "cell_type": "code",
   "execution_count": null,
   "id": "d47a01ab-333a-40d2-8b7c-0bd22cc18388",
   "metadata": {},
   "outputs": [],
   "source": [
    "df_ords_prods_custs_all['prices'].max()"
   ]
  },
  {
   "cell_type": "markdown",
   "id": "899cc119-5453-471e-bea3-b123891c6d07",
   "metadata": {},
   "source": [
    "Extreme value of 99,999 is forcing your histogram to shove all the small values into one bar and the extreme value in another one. And this second bar is so tiny that you can’t even see it on the chart."
   ]
  },
  {
   "cell_type": "markdown",
   "id": "c558b63e-c48b-482f-8f1b-078426f8e3f3",
   "metadata": {
    "tags": []
   },
   "source": [
    "## Create scatterplot for checking the outliner"
   ]
  },
  {
   "cell_type": "code",
   "execution_count": null,
   "id": "57ea5305-fba6-433d-87c0-ff3c89e9fcff",
   "metadata": {},
   "outputs": [],
   "source": [
    "sns.scatterplot(x = 'prices', y = 'prices',data = df_ords_prods_custs_all)"
   ]
  },
  {
   "cell_type": "code",
   "execution_count": null,
   "id": "2ba3779e-06c6-41c8-bfbc-be83b3b5e4e7",
   "metadata": {},
   "outputs": [],
   "source": [
    "# Check for there are any values above a certain threshold in your data\n",
    "df_ords_prods_custs_all.loc[df_ords_prods_custs_all['prices'] > 100]"
   ]
  },
  {
   "cell_type": "markdown",
   "id": "83689125-8bb7-4ca1-bb17-8ff6414207a4",
   "metadata": {},
   "source": [
    "### Manage outlier--treat them as missing value. Price > 1000 = NaNs"
   ]
  },
  {
   "cell_type": "code",
   "execution_count": null,
   "id": "056f29a4-e29b-4503-99cf-a0ac43e4dedb",
   "metadata": {},
   "outputs": [],
   "source": [
    "df_ords_prods_custs_all.loc[df_ords_prods_custs_all['prices'] >100, 'prices'] = np.nan"
   ]
  },
  {
   "cell_type": "code",
   "execution_count": null,
   "id": "a64bdb1b-dded-49ea-9f04-e36cc83c4251",
   "metadata": {},
   "outputs": [],
   "source": [
    "df_ords_prods_custs_all['prices'].max()"
   ]
  },
  {
   "cell_type": "markdown",
   "id": "11f1be91-e649-42f2-bdd1-b10e1528b1de",
   "metadata": {
    "tags": []
   },
   "source": [
    "Succesfully! we replaced all the outliers with missing values, The max value is a much more realistic price point of 25."
   ]
  },
  {
   "cell_type": "code",
   "execution_count": null,
   "id": "1b110e07-4ccb-4840-9256-b3aae12a1e19",
   "metadata": {},
   "outputs": [],
   "source": [
    "#export the update data \n",
    "df_ords_prods_custs_all.to_pickle(os.path.join(path, '02 Data','Prepared Data', 'orders_products_customers_all.pkl'))"
   ]
  },
  {
   "cell_type": "markdown",
   "id": "288d8da7-4be0-41d2-b99d-33fe96232d22",
   "metadata": {
    "tags": []
   },
   "source": [
    "## Retry histogram"
   ]
  },
  {
   "cell_type": "code",
   "execution_count": null,
   "id": "9df633c6-6dda-48ff-9281-4204d7c0abd9",
   "metadata": {},
   "outputs": [],
   "source": [
    "hist_prices=df_ords_prods_custs_all['prices'].plot.hist(bins=100)"
   ]
  },
  {
   "cell_type": "markdown",
   "id": "f7fa5d9a-0268-46c4-841a-0c905b56ed8d",
   "metadata": {
    "tags": []
   },
   "source": [
    "## Retry scatter plot"
   ]
  },
  {
   "cell_type": "code",
   "execution_count": null,
   "id": "e72eea7b-7401-44b3-9241-e9d2a66e5950",
   "metadata": {},
   "outputs": [],
   "source": [
    "scatterplot_prices=sns.scatterplot(x = 'prices', y = 'prices',data = df_ords_prods_custs_all, color='gray')"
   ]
  },
  {
   "cell_type": "markdown",
   "id": "dadb22c5-f8e7-4fec-a5a6-4b1c9ed6e259",
   "metadata": {
    "tags": []
   },
   "source": [
    "## Prepare Sampling Data"
   ]
  },
  {
   "cell_type": "code",
   "execution_count": null,
   "id": "ae4822dc-24bb-4d96-a3bf-657bd955960b",
   "metadata": {},
   "outputs": [],
   "source": [
    "# Create a list holding true/false values to test np.random.rand()<= 0.7\n",
    "np.random.seed(4)\n",
    "dev = np.random.rand(len(df_ords_prods_custs_all)) <= 0.7\n",
    "dev"
   ]
  },
  {
   "cell_type": "code",
   "execution_count": null,
   "id": "da2fc474-2252-4ce4-a10c-f66f2fed8c88",
   "metadata": {},
   "outputs": [],
   "source": [
    "# Store 70% of the sample in the dataframe big\n",
    "big = df_ords_prods_custs_all[dev]"
   ]
  },
  {
   "cell_type": "code",
   "execution_count": null,
   "id": "ff776e67-e0e4-467f-bc0d-c1443383539c",
   "metadata": {},
   "outputs": [],
   "source": [
    "#Store 30% of the sample in the dataframe small\n",
    "small = df_ords_prods_custs_all[~dev]"
   ]
  },
  {
   "cell_type": "markdown",
   "id": "80900115-8c9b-4572-acc8-1b987270d0e1",
   "metadata": {},
   "source": [
    "### check that you’ve achieved the results you expected"
   ]
  },
  {
   "cell_type": "code",
   "execution_count": null,
   "id": "74e54447-0b13-49ed-9013-276330c8f952",
   "metadata": {},
   "outputs": [],
   "source": [
    "len(df_ords_prods_custs_all)"
   ]
  },
  {
   "cell_type": "code",
   "execution_count": null,
   "id": "321da4f5-58aa-42bb-a43b-71bf04e87e7e",
   "metadata": {},
   "outputs": [],
   "source": [
    "len(big)+len(small)"
   ]
  },
  {
   "cell_type": "code",
   "execution_count": null,
   "id": "7b74718e-58f6-4fee-98bc-58c9b53f3af1",
   "metadata": {},
   "outputs": [],
   "source": [
    "# Creating a subset data frame for our line chart\n",
    "df_small = small[['orders_day_of_week','prices']]"
   ]
  },
  {
   "cell_type": "markdown",
   "id": "b3f3ca86-ae2f-4281-a4f6-8e56e73f3756",
   "metadata": {},
   "source": [
    "## Create Line Chart"
   ]
  },
  {
   "cell_type": "code",
   "execution_count": null,
   "id": "a57b5c24-1ec9-4977-b011-86eb6468910b",
   "metadata": {},
   "outputs": [],
   "source": [
    "line_chart_week_prices = sns.lineplot(data = df_small, x = 'orders_day_of_week',y = 'prices',color='black')\n",
    "plt.xlabel('Orders Day of Week')\n",
    "plt.ylabel('Prices')\n",
    "plt.title ('Spending Habits by Day of Week')"
   ]
  },
  {
   "cell_type": "markdown",
   "id": "c0eb65ba-f536-4e02-9c5b-7347e19d00f0",
   "metadata": {},
   "source": [
    "This line chart took 2 mins and 16 seconds to create for my macbook pro"
   ]
  },
  {
   "cell_type": "markdown",
   "id": "89763f2b-d0d9-4d77-8b0d-7c2c43f35360",
   "metadata": {
    "tags": []
   },
   "source": [
    "## Q3. you need to provide the Instacart senior stakeholders with descriptive findings about sales. Create a histogram of the “order_hour_of_day” column.¶\n",
    "In a markdown cell beneath your histogram, describe what the histogram demonstrates."
   ]
  },
  {
   "cell_type": "code",
   "execution_count": null,
   "id": "ac6ec30f-fa0f-4b81-b7d1-b56b98e00dd5",
   "metadata": {},
   "outputs": [],
   "source": [
    "hist_order_hour_of_day=df_ords_prods_custs_all['order_hour_of_day'].plot.hist(bins=70)\n",
    "plt.xlabel('24 Hours')\n",
    "plt.ylabel('Orders Placed In Millions')\n",
    "plt.title ('Time of Order')"
   ]
  },
  {
   "cell_type": "markdown",
   "id": "47bd61de-a5fd-4cc4-bae6-624cad62f8bd",
   "metadata": {
    "tags": []
   },
   "source": [
    "#### The histogram is showing the frequency values of orders per hour in the whole dataset"
   ]
  },
  {
   "cell_type": "markdown",
   "id": "529dbe66-81fa-43e0-b311-a651ad118c34",
   "metadata": {},
   "source": [
    "## Q4. The marketing team is curious about the distribution of orders among customers in terms of loyalty. Create a bar chart from the “loyalty_flag” column."
   ]
  },
  {
   "cell_type": "code",
   "execution_count": 71,
   "id": "979e5b50-33d9-4143-9dbb-177f7c39aaea",
   "metadata": {},
   "outputs": [
    {
     "data": {
      "image/png": "[encoded data removed]",
      "text/plain": [
       "<Figure size 640x480 with 1 Axes>"
      ]
     },
     "metadata": {},
     "output_type": "display_data"
    }
   ],
   "source": [
    "#change colors\n",
    "barchart_loyalty_customers = df_ords_prods_custs_all['loyalty_flag'].value_counts().sort_index().plot.bar(color =['gray','pink', 'violet'])\n"
   ]
  },
  {
   "cell_type": "markdown",
   "id": "096bb3b0-f4a3-490e-89d1-899e84e04bec",
   "metadata": {
    "tags": []
   },
   "source": [
    "## Q5. Check whether there’s a difference in expenditure (the “prices” column) depending on the hour of the day. (Hint: To check this, you need to use an accurate sample for your line chart!)"
   ]
  },
  {
   "cell_type": "code",
   "execution_count": null,
   "id": "b7fe79af-5ae4-4eb3-b507-f23a7b6649ec",
   "metadata": {},
   "outputs": [],
   "source": [
    "# Creating a subset data frame for our line chart\n",
    "df_order_hour_of_day_prices = small[['order_hour_of_day','prices']]"
   ]
  },
  {
   "cell_type": "code",
   "execution_count": null,
   "id": "00f0deaf-a1f1-42ee-a461-2bd29a77eeb5",
   "metadata": {},
   "outputs": [],
   "source": [
    "df_order_hour_of_day_prices.head()"
   ]
  },
  {
   "cell_type": "code",
   "execution_count": null,
   "id": "511798fd-42d5-4fbf-9993-ffc58d7ea196",
   "metadata": {},
   "outputs": [],
   "source": [
    "df_order_hour_of_day_prices.shape"
   ]
  },
  {
   "cell_type": "code",
   "execution_count": null,
   "id": "e16913d4-7c07-4769-8f83-2b2c93eea3ba",
   "metadata": {},
   "outputs": [],
   "source": [
    "# creating a line chart of hour and prices\n",
    "line_chart_order_hour_of_day_prices = sns.lineplot(data = df_order_hour_of_day_prices, color='brown', x = 'order_hour_of_day',y = 'prices')"
   ]
  },
  {
   "cell_type": "markdown",
   "id": "80f24401-cbb1-41f5-9bcb-3986ff628021",
   "metadata": {
    "tags": []
   },
   "source": [
    "### Q6. Now that you have information about customers, you need to conduct some exploratory analysis of customer demographics to inform the targeted marketing campaigns. First, determine whether there’s a connection between age and family situation by creating a line chart exploring the connections between age and number of dependents:\n",
    "In a markdown cell beneath your line chart, describe what the line chart shows"
   ]
  },
  {
   "cell_type": "code",
   "execution_count": null,
   "id": "a3d0d08d-1a9e-41d8-98d6-e26319047d59",
   "metadata": {},
   "outputs": [],
   "source": [
    "# Creating a subset data frame for our line chart\n",
    "df_age_dependants = small[['age','number_dependants']] "
   ]
  },
  {
   "cell_type": "code",
   "execution_count": null,
   "id": "4be019fa-4aee-46f0-bb7d-edc924101ccc",
   "metadata": {},
   "outputs": [],
   "source": [
    "df_age_dependants.head()"
   ]
  },
  {
   "cell_type": "code",
   "execution_count": null,
   "id": "907b6252-a45e-481a-be57-413cb9ea8c02",
   "metadata": {},
   "outputs": [],
   "source": [
    "#creating line chart \n",
    "line_chart_age_dependants = sns.lineplot(data = df_age_dependants, color='violet', linewidth=2.5, x = 'age',y = 'number_dependants')"
   ]
  },
  {
   "cell_type": "markdown",
   "id": "f028b1ae-e7b9-4b9d-97a0-0eaf60c77140",
   "metadata": {
    "tags": []
   },
   "source": [
    "#### The line chart shows age vs number of dependants. There is a lot going on in the chart. It is difficult to find the conclusion from this chart. "
   ]
  },
  {
   "cell_type": "markdown",
   "id": "8842a6ec-f362-4f84-87a0-40bfceddd0e5",
   "metadata": {},
   "source": [
    "## Q7. You’ll also need to explore whether there’s a connection between age and spending power (income). To visualize this relationship, create a scatterplot using the sns.scatterplot() function.\n",
    "\n",
    "In a markdown cell beneath your scatterplot, describe what the scatterplot shows."
   ]
  },
  {
   "cell_type": "code",
   "execution_count": null,
   "id": "3abe82a3-1698-4675-aca7-c1355b3881c4",
   "metadata": {},
   "outputs": [],
   "source": [
    "scatterplot_age_income=sns.scatterplot(x = 'age', y = 'income',data = df_ords_prods_custs_all, color='purple')"
   ]
  },
  {
   "cell_type": "markdown",
   "id": "36a481d7-3450-4638-a44d-f6218442cdac",
   "metadata": {},
   "source": [
    "#### This chart is showing between age vs income. We can see that as higher the age is as higher the income is. Lower income values are seen from people below 40 years old. On the other side, above 40, income increases considerably."
   ]
  },
  {
   "cell_type": "markdown",
   "id": "bf4036ec-d3d7-4222-906c-f4004dc3c56f",
   "metadata": {},
   "source": [
    "##  Export your visualizations as “.png” files in your relevant project folder."
   ]
  },
  {
   "cell_type": "code",
   "execution_count": null,
   "id": "29cd2953-bdda-4981-8c8a-2d8f5fbd4383",
   "metadata": {},
   "outputs": [],
   "source": [
    "bar_ords_week.figure.savefig(os.path.join(path, '04 Analysis','Visualizations', 'bar_ords_week_03.15.png'))"
   ]
  },
  {
   "cell_type": "code",
   "execution_count": null,
   "id": "0b7ec766-6dff-4c6e-98e9-27c942077d46",
   "metadata": {},
   "outputs": [],
   "source": [
    "hist_prices.figure.savefig(os.path.join(path, '04 Analysis','Visualizations', 'hist_prices_03.15.png'))"
   ]
  },
  {
   "cell_type": "code",
   "execution_count": null,
   "id": "99a3bb10-df75-4149-ad84-17cf22d1c595",
   "metadata": {},
   "outputs": [],
   "source": [
    "scatterplot_prices.figure.savefig(os.path.join(path, '04 Analysis','Visualizations', 'scatterplot_prices_03.15.png'))"
   ]
  },
  {
   "cell_type": "code",
   "execution_count": null,
   "id": "8e3ec551-5a8f-40ed-a84d-01387e5d408f",
   "metadata": {},
   "outputs": [],
   "source": [
    "line_chart_week_prices.figure.savefig(os.path.join(path, '04 Analysis','Visualizations', 'line_chart_week_prices_03.15.png'))"
   ]
  },
  {
   "cell_type": "code",
   "execution_count": null,
   "id": "1752ba1c-c4f8-40a9-8d46-8452cd29ade2",
   "metadata": {},
   "outputs": [],
   "source": [
    "hist_order_hour_of_day.figure.savefig(os.path.join(path, '04 Analysis','Visualizations', 'hist_order_hour_of_day_03.15.png'))"
   ]
  },
  {
   "cell_type": "code",
   "execution_count": null,
   "id": "3763c079-b5d2-46ac-8e0f-dd87981c34f1",
   "metadata": {},
   "outputs": [],
   "source": [
    "barchart_loyalty_customers.figure.savefig(os.path.join(path, '04 Analysis','Visualizations', 'barchart_loyalty_customers_03.15.png'))"
   ]
  },
  {
   "cell_type": "code",
   "execution_count": null,
   "id": "c81f1008-d3fb-401a-adb7-ebaeef2e4340",
   "metadata": {},
   "outputs": [],
   "source": [
    "line_chart_order_hour_of_day_prices.figure.savefig(os.path.join(path, '04 Analysis','Visualizations', 'line_chart_order_hour_of_day_prices_03.15.png'))"
   ]
  },
  {
   "cell_type": "code",
   "execution_count": null,
   "id": "efee5d7c-64ab-435a-b619-49f549036b7e",
   "metadata": {},
   "outputs": [],
   "source": [
    "line_chart_age_dependants.figure.savefig(os.path.join(path, '04 Analysis','Visualizations', 'line_chart_age_dependants_03.15.png'))"
   ]
  },
  {
   "cell_type": "code",
   "execution_count": null,
   "id": "eed74084-348a-43be-9542-b74afec9cdbd",
   "metadata": {},
   "outputs": [],
   "source": [
    "scatterplot_age_income.figure.savefig(os.path.join(path, '04 Analysis','Visualizations', 'scatterplot_age_income_03.15.png'))"
   ]
  },
  {
   "cell_type": "code",
   "execution_count": null,
   "id": "9ed3757d-df27-4af0-96e2-22d347dcea73",
   "metadata": {},
   "outputs": [],
   "source": []
  }
 ],
 "metadata": {
  "kernelspec": {
   "display_name": "Python 3 (ipykernel)",
   "language": "python",
   "name": "python3"
  },
  "language_info": {
   "codemirror_mode": {
    "name": "ipython",
    "version": 3
   },
   "file_extension": ".py",
   "mimetype": "text/x-python",
   "name": "python",
   "nbconvert_exporter": "python",
   "pygments_lexer": "ipython3",
   "version": "3.9.13"
  }
 },
 "nbformat": 4,
 "nbformat_minor": 5
}
